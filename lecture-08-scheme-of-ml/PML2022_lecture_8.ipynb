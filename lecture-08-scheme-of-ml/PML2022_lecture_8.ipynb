{
 "cells": [
  {
   "cell_type": "markdown",
   "metadata": {
    "slideshow": {
     "slide_type": "slide"
    }
   },
   "source": [
    "# PML Lecture 8: The scheme of a machine learning program\n",
    "\n",
    "## Quick review\n",
    "\n",
    "1. Machine learning learns models from a set of **n observations (also known as sample, example, instance, record)** of data and then tries to predict **properties** of new data.\n",
    "2. Two categories: supervised learning and unsupervised learning\n",
    "3. Training and test stages. The primary goal of machine learning is to build model that generalizes to new data\n",
    "\n",
    "4. Learn machine learning basics \"An introduction to machine learning with scikit-learn\" from the tutorials at https://scikit-learn.org/stable/tutorial/index.html\n",
    "\n",
    "5. Learn the numpy array.\n",
    "    https://numpy.org/devdocs/user/quickstart.html"
   ]
  },
  {
   "cell_type": "code",
   "execution_count": 1,
   "metadata": {
    "scrolled": true
   },
   "outputs": [
    {
     "name": "stdout",
     "output_type": "stream",
     "text": [
      "0.24.1\n"
     ]
    }
   ],
   "source": [
    "import sklearn as sk\n",
    "print(sk.__version__)\n",
    "#dir(sk)"
   ]
  },
  {
   "cell_type": "markdown",
   "metadata": {},
   "source": [
    "## Agenda\n",
    "\n",
    "- Numpy Array\n",
    "- An example\n",
    "- What machine learning can do? (more examples) \n",
    "\n",
    "- Machine learning algorithms--An overview\n",
    "\n",
    "- The scheme of a machine learning program\n",
    "\n",
    "- A simple machine algorithm\n",
    "\n",
    "- Paractise less basic operations of numpy array (After Class)"
   ]
  },
  {
   "cell_type": "code",
   "execution_count": 2,
   "metadata": {},
   "outputs": [
    {
     "data": {
      "text/plain": [
       "'1.19.5'"
      ]
     },
     "execution_count": 2,
     "metadata": {},
     "output_type": "execute_result"
    }
   ],
   "source": [
    "import numpy as np\n",
    "np.__version__"
   ]
  },
  {
   "cell_type": "code",
   "execution_count": 30,
   "metadata": {
    "scrolled": false
   },
   "outputs": [
    {
     "name": "stdout",
     "output_type": "stream",
     "text": [
      "[1, 2, 3, 5.5, 'str'] <class 'list'> [1, 2, 3, 5.5, 'str', 1, 2, 3, 5.5, 'str']\n",
      "[1 2 3] <class 'numpy.ndarray'>\n",
      "[[1 2 4]\n",
      " [5 6 7]]\n",
      "shape: (2, 3) data type:  int32\n",
      "[1.  2.  3.5]\n",
      "data type: float64\n",
      "['1' '2' 'str']\n",
      "<U11\n",
      "[1 2 3] int32\n",
      "[[0. 0. 0. 0.]\n",
      " [0. 0. 0. 0.]\n",
      " [0. 0. 0. 0.]\n",
      " [0. 0. 0. 0.]]\n",
      "[[1. 1. 1. 1.]\n",
      " [1. 1. 1. 1.]\n",
      " [1. 1. 1. 1.]\n",
      " [1. 1. 1. 1.]]\n",
      "[[100. 100. 100. 100.]\n",
      " [100. 100. 100. 100.]\n",
      " [100. 100. 100. 100.]\n",
      " [100. 100. 100. 100.]]\n",
      "(6,)\n",
      "j: [[1 2 3]\n",
      " [4 5 6]]\n",
      "(2, 3)\n"
     ]
    }
   ],
   "source": [
    "#python list to store an array of data\n",
    "l = [1, 2, 3, 5.5, 'str']\n",
    "print(l, type(l), l*2)\n",
    "\n",
    "# numpy basics\n",
    "import numpy as np\n",
    "# create a np array using python list and set data type\n",
    "a = np.array([1, 2, 3])\n",
    "print(a, type(a))\n",
    "\n",
    "b= np.array([[1,2, 4], [5, 6, 7]])\n",
    "print(b)\n",
    "print('shape:', b.shape, 'data type: ', b.dtype)\n",
    "# in one numpy array, all data points should have the same data type\n",
    "\n",
    "c = np.array([1, 2, 3.5]) # upcasting: auto convert int to float\n",
    "print(c)\n",
    "print('data type:', c.dtype)\n",
    "\n",
    "d = np.array([1, 2, 'str']) # all coverted to strings\n",
    "print(d)\n",
    "print(d.dtype)\n",
    "\n",
    "# specify the data type at the begining\n",
    "e = np.array([1.2, 2.3, 3], dtype = int)\n",
    "print(e, e.dtype)\n",
    "\n",
    "# useful function to create np array\n",
    "f = np.zeros((4,4)) # note that the dimensionality should be in a tuple\n",
    "print(f)\n",
    "g = np.ones((4, 4))\n",
    "print(g)\n",
    "\n",
    "h = np.ones((4, 4))*100\n",
    "print(h)\n",
    "\n",
    "# Change the shape of an numpy array\n",
    "i = np.array([1, 2,3,4,5,6])\n",
    "print(i.shape)\n",
    "j = i.reshape(2, 3)\n",
    "print('j:', j)\n",
    "print(j.shape)"
   ]
  },
  {
   "cell_type": "markdown",
   "metadata": {},
   "source": [
    "### Example: Iris Classification\n",
    "1. The 'Hello World!' task in machine learning: Iris classification\n",
    "\n",
    "The Iris dataset\n",
    "\n",
    "```python\n",
    "    import sklearn.datasets as ds\n",
    "    iris = ds.load_iris()\n",
    "```\n",
    "    1. 150 observations; 3 different species, and 50 observations for each species.\n",
    "    2. 4 fearures:\n",
    "        - sepal length in cm\n",
    "        - sepal width in cm\n",
    "        - petal length in cm\n",
    "        - petal width in cm\n",
    "    3. Class labels (Species): Iris-Setosa, Iris-Versicolour, and Iris-Virginica\n",
    "![Figure 1: Machine Learning](Iris1-2.png)    "
   ]
  },
  {
   "cell_type": "code",
   "execution_count": 2,
   "metadata": {},
   "outputs": [
    {
     "data": {
      "text/plain": [
       "['DESCR',\n",
       " 'data',\n",
       " 'feature_names',\n",
       " 'filename',\n",
       " 'frame',\n",
       " 'target',\n",
       " 'target_names']"
      ]
     },
     "execution_count": 2,
     "metadata": {},
     "output_type": "execute_result"
    }
   ],
   "source": [
    "# explore the iris dataset\n",
    "import sklearn.datasets as ds\n",
    "\n",
    "iris = ds.load_iris()\n",
    "#print(iris.DESCR)\n",
    "dir(iris) # data--> feature vectors 150*4, target--> class labels: 150"
   ]
  },
  {
   "cell_type": "code",
   "execution_count": 3,
   "metadata": {},
   "outputs": [
    {
     "name": "stdout",
     "output_type": "stream",
     "text": [
      "(150, 4) (150,)\n",
      "tgts: [0 0 0 0 0 0 0 0 0 0 0 0 0 0 0 0 0 0 0 0 0 0 0 0 0 0 0 0 0 0 0 0 0 0 0 0 0\n",
      " 0 0 0 0 0 0 0 0 0 0 0 0 0 1 1 1 1 1 1 1 1 1 1 1 1 1 1 1 1 1 1 1 1 1 1 1 1\n",
      " 1 1 1 1 1 1 1 1 1 1 1 1 1 1 1 1 1 1 1 1 1 1 1 1 1 1 2 2 2 2 2 2 2 2 2 2 2\n",
      " 2 2 2 2 2 2 2 2 2 2 2 2 2 2 2 2 2 2 2 2 2 2 2 2 2 2 2 2 2 2 2 2 2 2 2 2 2\n",
      " 2 2]\n"
     ]
    }
   ],
   "source": [
    "# load data to numpy array\n",
    "data = iris.data\n",
    "tgts = iris.target\n",
    "print(data.shape, tgts.shape)\n",
    "print('tgts:', tgts)"
   ]
  },
  {
   "cell_type": "code",
   "execution_count": 44,
   "metadata": {},
   "outputs": [
    {
     "name": "stdout",
     "output_type": "stream",
     "text": [
      "50\n"
     ]
    },
    {
     "data": {
      "text/plain": [
       "50"
      ]
     },
     "execution_count": 44,
     "metadata": {},
     "output_type": "execute_result"
    }
   ],
   "source": [
    "# count the # of samples for each categories\n",
    "# cates: 0, 1, 2\n",
    "\n",
    "c1 = (tgts==0)\n",
    "n_c1 = c1.sum() # internally, True is 1, and False is 0\n",
    "print(n_c1)\n",
    "\n",
    "# one line python code to count the # of samples of category 2\n",
    "(tgts==2).sum()"
   ]
  },
  {
   "cell_type": "code",
   "execution_count": 4,
   "metadata": {
    "scrolled": true
   },
   "outputs": [
    {
     "data": {
      "text/plain": [
       "[<matplotlib.lines.Line2D at 0x1ebcdca0cd0>]"
      ]
     },
     "execution_count": 4,
     "metadata": {},
     "output_type": "execute_result"
    },
    {
     "data": {
      "image/png": "[encoded data removed]",
      "text/plain": [
       "<Figure size 432x288 with 1 Axes>"
      ]
     },
     "metadata": {
      "needs_background": "light"
     },
     "output_type": "display_data"
    }
   ],
   "source": [
    "#print(data)\n",
    "# visulize features\n",
    "\n",
    "import matplotlib.pyplot as plt\n",
    "\n",
    "# display all rows for the fourth feature\n",
    "plt.plot(data[:, 3])"
   ]
  },
  {
   "cell_type": "markdown",
   "metadata": {},
   "source": [
    "## What machine learning can do? (more examples)\n",
    "1. Example Day-to-Day Life \n",
    "    - Face ID and fingerprint ID\n",
    "    - Email Spam and Malware Filtering (ANN and Decision Tree algorithms) https://www.kaggle.com/c/email-spam/overview \n",
    "    - Product Recommendations, e.g., Netflix Prize https://en.wikipedia.org/wiki/Netflix_Prize \n",
    "    - Online custermer support, e.g., chatbot\n",
    "    - Search Engine Result Refining\n",
    "    - ..."
   ]
  },
  {
   "cell_type": "markdown",
   "metadata": {},
   "source": [
    "2. Advanced applications\n",
    "    - Video surveillance, e.g., critical locations monitoring, traffic monitoring, and wild fire early detection\n",
    "    - Self-Driving. https://carla.readthedocs.io/en/latest/cameras_and_sensors/#camera-semantic-segmentation\n",
    "    - Medical diagnosis, e.g., computer-aided diagnosis (CAD) systems. https://nihcc.app.box.com/v/DeepLesion\n",
    "    - Machine Translator\n",
    "    - Natural language processing. https://en.wikipedia.org/wiki/Natural_language_processing\n",
    "    - Fake banknote detection\n",
    "    - ..."
   ]
  },
  {
   "cell_type": "markdown",
   "metadata": {},
   "source": [
    "3. Do you have other examples/experience to share?"
   ]
  },
  {
   "cell_type": "markdown",
   "metadata": {},
   "source": [
    "## Machine learning algorithms--An overview\n",
    "\n",
    "1. Supervised learning\n",
    "    1. Regression. Linear regression (4), decision tree (5) and random forests (6), K-nearest neighbors (KNN)(1), Neural networks,...\n",
    "    2. Classification. K-nearest neighbors (KNN)(1), Logistic regression (2),Support Vector Machines (3), Neural networks (9), Convolutional neural networks (CNNS) (10)... \n",
    "    \n",
    "2. Unsupervised learning. K-means (7), spectral clustering (8), ...\n",
    "\n",
    "*The numbers in the parenthesis indicate the learning order of these algorithms in this class. we will move 9 and partial 10 to module 4. "
   ]
  },
  {
   "cell_type": "markdown",
   "metadata": {},
   "source": [
    "## The scheme of a machine learning program\n",
    "1. Data preparation\n",
    "2. Training\n",
    "3. Prediction and evaluation\n",
    "4. **Model persistence**"
   ]
  },
  {
   "cell_type": "code",
   "execution_count": 8,
   "metadata": {},
   "outputs": [
    {
     "name": "stdout",
     "output_type": "stream",
     "text": [
      "(150, 4) (150,)\n",
      "(105, 4) (45, 4)\n",
      "SVC(C=0.5, kernel='linear')\n",
      "prediction: [0 1 1 2 2 2 1 1 1 2 1 1 2 2 2 0 0 1 1 0 0 0 0 1 2 1 2 2 1 1 1 0 2 2 2 1 0\n",
      " 2 0 0 0 0 0 2 1 0 2 2 1 1 2 1 1 2 1 1 0 1 0 0 2 1 0 0 1 2 2 0 0 2 2 2 2 1\n",
      " 2 2 0 0 0 2 0 1 2 0 0 1 2 1 2 1 1 0 2 0 0 0 2 2 1 0 0 2 1 2 2]\n",
      "real targets: [0 1 1 2 2 2 1 1 1 2 1 1 2 2 2 0 0 1 1 0 0 0 0 1 2 1 2 2 1 1 1 0 2 2 2 1 0\n",
      " 2 0 0 0 0 0 2 1 0 2 2 1 1 2 1 1 2 1 1 0 1 0 0 2 1 0 0 1 2 1 0 0 2 2 2 2 1\n",
      " 2 2 0 0 0 2 0 1 2 0 0 1 2 1 2 1 1 0 2 0 0 0 2 2 1 0 0 2 1 2 2]\n",
      "error rate on the training set 0.009523809523809525\n",
      "error rate on the test set 0.044444444444444446\n"
     ]
    }
   ],
   "source": [
    "#First Machine Learning\n",
    "import numpy as np\n",
    "from sklearn import svm, datasets\n",
    "from sklearn.model_selection import train_test_split\n",
    "\n",
    "#1. data preparation\n",
    "#1.1 load some data to play with\n",
    "iris = datasets.load_iris()\n",
    "X = iris.data # feature vectors\n",
    "y = iris.target # class labels\n",
    "print(X.shape, y.shape)\n",
    "\n",
    "#1.2. Split the data into a training set and a test set\n",
    "X_train, X_test, y_train, y_test = train_test_split(X, y, test_size = 0.3)\n",
    "print(X_train.shape, X_test.shape)\n",
    "\n",
    "#2. model training: SVC: support vector classification\n",
    "myClf = svm.SVC(kernel = 'linear', C=0.5)\n",
    "myClf.fit(X_train, y_train)\n",
    "print(myClf)\n",
    "\n",
    "#3. prediction and evaluation\n",
    "# 3.1 prediction\n",
    "y_train_pred = myClf.predict(X_train)\n",
    "print('prediction:', y_train_pred)\n",
    "print('real targets:', y_train)\n",
    "\n",
    "#3.2 evaluation\n",
    "# error rate: # error output / toal # of samples\n",
    "err = (y_train_pred != y_train).sum()\n",
    "\n",
    "err_rate = err / y_train.shape[0] #105 \n",
    "print('error rate on the training set', err_rate)\n",
    "\n",
    "\n",
    "## after the class, calculate the error rate on the test set\n",
    "y_test_pred = myClf.predict(X_test)\n",
    "err = (y_test_pred != y_test).sum()\n",
    "err_rate = err / y_test.shape[0]\n",
    "print('error rate on the test set', err_rate)"
   ]
  },
  {
   "cell_type": "code",
   "execution_count": 9,
   "metadata": {},
   "outputs": [
    {
     "name": "stdout",
     "output_type": "stream",
     "text": [
      "prediction: [2 2 0 1 2 2 0 0 0 0 1 1 1 2 0 0 0 1 1 2 2 1 2 2 2 0 1 0 2 1 0 1 0 1 1 2 1\n",
      " 0 2 2 2 1 0 0 0]\n",
      "real targets: [1 2 0 1 1 2 0 0 0 0 1 1 1 2 0 0 0 1 1 2 2 1 2 2 2 0 1 0 2 1 0 1 0 1 1 2 1\n",
      " 0 2 2 2 1 0 0 0]\n"
     ]
    }
   ],
   "source": [
    "## predicted class labels for the test set\n",
    "print('prediction:', y_test_pred)\n",
    "\n",
    "## true class labels of the test set\n",
    "print('real targets:', y_test)\n"
   ]
  },
  {
   "cell_type": "markdown",
   "metadata": {},
   "source": [
    "### Practise less basic operations of numpy array "
   ]
  },
  {
   "cell_type": "code",
   "execution_count": 84,
   "metadata": {},
   "outputs": [
    {
     "name": "stdout",
     "output_type": "stream",
     "text": [
      "float64\n",
      "[ 0  2  4  6  8 10 12 14 16 18]\n",
      "[0 4 8]\n",
      "[[1. 2. 3.]\n",
      " [4. 5. 6.]]\n",
      "[1. 2. 3. 4. 5. 6.]\n"
     ]
    },
    {
     "data": {
      "text/plain": [
       "array([[0., 0., 0.],\n",
       "       [3., 3., 3.]])"
      ]
     },
     "execution_count": 84,
     "metadata": {},
     "output_type": "execute_result"
    }
   ],
   "source": [
    "# basics\n",
    "import numpy as np\n",
    "\n",
    "# create\n",
    "arr = np.array([1, 2, 3], dtype = float)\n",
    "print(arr.dtype.name)\n",
    "arr1 = np.array([4, 5, 6], dtype = float)\n",
    "\n",
    "# element-wise operations\n",
    "arr + arr1\n",
    "arr * arr1\n",
    "arr - arr1\n",
    "\n",
    "#indexing by integers and slicing\n",
    "a = np.arange(10)*2\n",
    "print(a)\n",
    "print(a[0:6:2]) # 2 is the step\n",
    "\n",
    "# stack\n",
    "print(np.vstack((arr, arr1)))\n",
    "print(np.hstack((arr, arr1)))\n",
    "arr3 = np.vstack((arr, arr1))\n",
    "arr3 - arr1"
   ]
  },
  {
   "cell_type": "code",
   "execution_count": 22,
   "metadata": {},
   "outputs": [
    {
     "name": "stdout",
     "output_type": "stream",
     "text": [
      "[1, 3, 5]\n",
      "4 5\n"
     ]
    },
    {
     "data": {
      "text/plain": [
       "array([4, 5])"
      ]
     },
     "execution_count": 22,
     "metadata": {},
     "output_type": "execute_result"
    }
   ],
   "source": [
    "# less basics\n",
    "# indexing by arrays of integers and arrays of booleans\n",
    "lst = [1, 2, 3, 4, 5]\n",
    "print(lst[0::2])\n",
    "\n",
    "lst1 = np.array(lst)\n",
    "j = [0, 1, 2]\n",
    "lst1[j]\n",
    "\n",
    "j = [0, 0, 1, 2]\n",
    "lst1[j]\n",
    "\n",
    "# search the max values\n",
    "ind = lst1.argmax()\n",
    "print(ind, lst1[ind])\n",
    "\n",
    "#assign\n",
    "\n",
    "lst1[[0, 1, 2]] = -1\n",
    "lst1\n",
    "\n",
    "lst1>0\n",
    "lst1[lst1>0]"
   ]
  },
  {
   "cell_type": "code",
   "execution_count": 21,
   "metadata": {},
   "outputs": [
    {
     "name": "stdout",
     "output_type": "stream",
     "text": [
      "[2. 4. 6.]\n",
      "[2. 4. 6.]\n"
     ]
    }
   ],
   "source": [
    "# Broadcasting\n",
    "# deal with inputs that do not have exactly the same shape\n",
    "\n",
    "a = np.array([1.0, 2.0, 3.0])\n",
    "b = np.array([2.0, 2.0, 2.0])\n",
    "print(a * b)\n",
    "\n",
    "a = np.array([1.0, 2.0, 3.0])\n",
    "b = 2.0\n",
    "print(a * b)"
   ]
  }
 ],
 "metadata": {
  "celltoolbar": "Slideshow",
  "kernelspec": {
   "display_name": "Python 3 (ipykernel)",
   "language": "python",
   "name": "python3"
  },
  "language_info": {
   "codemirror_mode": {
    "name": "ipython",
    "version": 3
   },
   "file_extension": ".py",
   "mimetype": "text/x-python",
   "name": "python",
   "nbconvert_exporter": "python",
   "pygments_lexer": "ipython3",
   "version": "3.9.7"
  }
 },
 "nbformat": 4,
 "nbformat_minor": 2
}
