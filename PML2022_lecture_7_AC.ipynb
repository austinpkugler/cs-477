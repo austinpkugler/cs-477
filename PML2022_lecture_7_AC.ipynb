{
 "cells": [
  {
   "cell_type": "markdown",
   "metadata": {
    "slideshow": {
     "slide_type": "slide"
    }
   },
   "source": [
    "# Lecture 7: Machine Learning Basics\n",
    "\n",
    "## Agenda: \n",
    "1. What is machine learning?\n",
    "2. How does machine learning work?\n",
    "3. Scikit-learn\n",
    "4. Numpy"
   ]
  },
  {
   "cell_type": "markdown",
   "metadata": {
    "slideshow": {
     "slide_type": "slide"
    }
   },
   "source": [
    "##  1. What is Machine Learning ?\n",
    "Machine learning learns models from a set of **n observations (also known as samples, examples, instances, records)** of data and then tries to predict **properties** of new data. \n",
    "\n",
    "                                  \n",
    "|![Figure 1: Machine Learning](ML_training.png)|\n",
    "|-----------------------------|\n",
    "|Figure 1. Machine Learning|"
   ]
  },
  {
   "cell_type": "markdown",
   "metadata": {
    "slideshow": {
     "slide_type": "slide"
    }
   },
   "source": [
    "## Two main categories of ML\n",
    "1. Supervised learning, in which the data comes with additional ***labels/attributes that we want to predict***. This problem can be either: \n",
    "    1. Classification: the desired output consists of a finite number of **discrete categories** \n",
    "        1. Examples: handwritten digit recognition, Iris classification and spam or ham email classification\n",
    "    2. Regression: the desired output consists of one or more **continuous variables**\n",
    "        1. Predict the final score (0-100) of students using their grades of homework\n",
    "![Figure 3: Machine Learning](handwritten.png)\n",
    "2. Unsupervised learning, in which the training data consists of a set of input vectors x **without any corresponding target labels**. \n",
    "    1. Clustering: discover groups of similar examples within the data, e.g., group shoppers with similar behavior\n",
    "![Figure 3: Machine Learning](clusters.png)\n",
    "    2. Density estimation: determine the distribution of data \n",
    "    3. Dimensionality Reduction: project the data from a high-dimensional space down to low dimensions\n",
    "3. Reinforcement Learning"
   ]
  },
  {
   "cell_type": "markdown",
   "metadata": {},
   "source": [
    "## 2. How does machine learning work?\n",
    "Take supervised learning for example:\n",
    "1. First Training a machine learning using labeled data\n",
    "    1. labeled data with labels (output)\n",
    "    2. machine learning models learns the relationship of the input data and output(labels)\n",
    "2. Make prediction in new data that was not used in training the model\n",
    "    1. The primary goal of machine learning is to build model that generalizes to new data\n",
    "    \n",
    "![Figure 2: Machine Learning](ML_tt.png)"
   ]
  },
  {
   "cell_type": "markdown",
   "metadata": {},
   "source": [
    "## 3. Scikit-learn\n",
    "\n",
    "1. Learn machine learning basics \"An introduction to machine learning with scikit-learn\" from the tutorials at https://scikit-learn.org/stable/tutorial/index.html"
   ]
  },
  {
   "cell_type": "code",
   "execution_count": 1,
   "metadata": {
    "scrolled": false
   },
   "outputs": [
    {
     "name": "stdout",
     "output_type": "stream",
     "text": [
      "sklearn version: 0.24.2\n"
     ]
    }
   ],
   "source": [
    "#import scikit-learn package\n",
    "import sklearn as sk # run __init__ first\n",
    "print('sklearn version:', sk.__version__)\n",
    "\n",
    "# check scikit-learn folder: C:\\Program Files\\Anaconda3\\Lib\\site-packages\\sklearn "
   ]
  },
  {
   "cell_type": "code",
   "execution_count": 1,
   "metadata": {
    "scrolled": true
   },
   "outputs": [],
   "source": [
    "# explore iris dataset\n",
    "import sklearn.datasets as ds\n",
    "iris = ds.load_iris()\n"
   ]
  },
  {
   "cell_type": "code",
   "execution_count": 2,
   "metadata": {},
   "outputs": [],
   "source": [
    "inpt = iris.data\n",
    "labels = iris.target\n"
   ]
  },
  {
   "cell_type": "markdown",
   "metadata": {},
   "source": [
    "### 4. Practice NumPy array after class\n",
    "\n",
    "1. Learn the numpy array.\n",
    "    1. https://numpy.org/devdocs/user/quickstart.html\n",
    "    \n",
    "2. Functions and Methods: concatenate, diagonal, dsplit, dstack, hsplit, hstack, newaxis, ravel, repeat, reshape, resize, squeeze, swapaxes, take, transpose, vsplit, vstack\n",
    "\n",
    "3. Ordering: argmax, argmin, argsort, max, min, searchsorted, sort\n",
    "\n",
    "4. math and statistics: cov, mean, std, var,all, any, inner, invert, max, maximum, mean, median, min, minimum, nonzero, outer, prod, re, round, sort, std, sum, trace, transpose\n",
    "\n"
   ]
  },
  {
   "cell_type": "markdown",
   "metadata": {},
   "source": [
    "### 5. Example: Iris Classification\n",
    "1. The 'Hello World!' task in machine learning: Iris classification\n",
    "The Iris dataset\n",
    "\n",
    "```python\n",
    "    import sklearn.datasets as ds\n",
    "    iris = ds.load_iris()\n",
    "```\n",
    "    1. 150 observations; 50 observations of 3 different species\n",
    "    2. 4 fearures:\n",
    "        - sepal length in cm\n",
    "        - sepal width in cm\n",
    "        - petal length in cm\n",
    "        - petal width in cm\n",
    "    3. Class labels (Species): Iris-Setosa, Iris-Versicolour, and Iris-Virginica\n",
    "![Figure 1: Machine Learning](Iris1.png)    "
   ]
  }
 ],
 "metadata": {
  "celltoolbar": "Slideshow",
  "kernelspec": {
   "display_name": "Python 3 (ipykernel)",
   "language": "python",
   "name": "python3"
  },
  "language_info": {
   "codemirror_mode": {
    "name": "ipython",
    "version": 3
   },
   "file_extension": ".py",
   "mimetype": "text/x-python",
   "name": "python",
   "nbconvert_exporter": "python",
   "pygments_lexer": "ipython3",
   "version": "3.9.7"
  }
 },
 "nbformat": 4,
 "nbformat_minor": 2
}
