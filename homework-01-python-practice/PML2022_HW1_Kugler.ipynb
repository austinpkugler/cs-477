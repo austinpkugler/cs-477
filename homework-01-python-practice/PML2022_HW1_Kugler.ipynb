{
 "cells": [
  {
   "cell_type": "markdown",
   "metadata": {},
   "source": [
    "## PML 2022\n",
    "## Homework 1: Python for basic data analysis\n",
    "\n",
    "\n",
    "Name: Kugler, Austin\n",
    "\n",
    "Department: CS\n",
    "\n",
    "\n",
    "\n",
    "\n",
    "This homework aims to help you practice basic Python programing skills using the breast cancer wisconsin dataset. \n",
    "\n",
    "![breast image](breastimg.png)\n",
    "\n",
    "| *Fig. 1. Cell nuclei in a breast histopathology image* | \n",
    "|---|\n",
    "|Fine Needle Aspiration (FNA) biopsy: https://www.cancer.org/cancer/breast-cancer/screening-tests-and-early-detection/breast-biopsy/fine-needle-aspiration-biopsy-of-the-breast.html|\n",
    "|H&E stain: https://en.wikipedia.org/wiki/H%26E_stain|\n",
    "\n",
    "\n",
    "Tasks:\n",
    "\n",
    "[Task 1](#section1)\n",
    "\n",
    "[Task 2](#section2)\n",
    "\n",
    "[Task 3](#section3)\n",
    "\n",
    "[Task 4](#section4)\n",
    "\n",
    "[Task 5](#section5)"
   ]
  },
  {
   "cell_type": "markdown",
   "metadata": {},
   "source": [
    "## Dataset\n",
    "\n",
    "    - Number of data samples: 569\n",
    "    \n",
    "    - Each data sample has 30 numeric features/attributes. The first 10 features were directly calculated using mean feautues of all nuclei in an image\n",
    "    \n",
    "    - Class labels\n",
    "        : 212 Malignant (0)\n",
    "        : 357 Benign (1)\n",
    "        \n",
    "    https://scikit-learn.org/stable/modules/generated/sklearn.datasets.load_breast_cancer.html#sklearn.datasets.load_breast_cancer"
   ]
  },
  {
   "cell_type": "code",
   "execution_count": 2,
   "metadata": {},
   "outputs": [],
   "source": [
    "import sklearn.datasets as ds\n",
    "import numpy as np"
   ]
  },
  {
   "cell_type": "code",
   "execution_count": 3,
   "metadata": {
    "scrolled": true
   },
   "outputs": [
    {
     "name": "stdout",
     "output_type": "stream",
     "text": [
      "Data fields in breast_ds: \n",
      " ['DESCR', 'data', 'feature_names', 'filename', 'frame', 'target', 'target_names']\n",
      "\n",
      " Dataset description:\n",
      " .. _breast_cancer_dataset:\n",
      "\n",
      "Breast cancer wisconsin (diagnostic) dataset\n",
      "--------------------------------------------\n",
      "\n",
      "**Data Set Characteristics:**\n",
      "\n",
      "    :Number of Instances: 569\n",
      "\n",
      "    :Number of Attributes: 30 numeric, predictive attributes and the class\n",
      "\n",
      "    :Attribute Information:\n",
      "        - radius (mean of distances from center to points on the perimeter)\n",
      "        - texture (standard deviation of gray-scale values)\n",
      "        - perimeter\n",
      "        - area\n",
      "        - smoothness (local variation in radius lengths)\n",
      "        - compactness (perimeter^2 / area - 1.0)\n",
      "        - concavity (severity of concave portions of the contour)\n",
      "        - concave points (number of concave portions of the contour)\n",
      "        - symmetry\n",
      "        - fractal dimension (\"coastline approximation\" - 1)\n",
      "\n",
      "        The mean, standard error, and \"worst\" or largest (mean of the three\n",
      "        worst/largest values) of these features were computed for each image,\n",
      "        resulting in 30 features.  For instance, field 0 is Mean Radius, field\n",
      "        10 is Radius SE, field 20 is Worst Radius.\n",
      "\n",
      "        - class:\n",
      "                - WDBC-Malignant\n",
      "                - WDBC-Benign\n",
      "\n",
      "    :Summary Statistics:\n",
      "\n",
      "    ===================================== ====== ======\n",
      "                                           Min    Max\n",
      "    ===================================== ====== ======\n",
      "    radius (mean):                        6.981  28.11\n",
      "    texture (mean):                       9.71   39.28\n",
      "    perimeter (mean):                     43.79  188.5\n",
      "    area (mean):                          143.5  2501.0\n",
      "    smoothness (mean):                    0.053  0.163\n",
      "    compactness (mean):                   0.019  0.345\n",
      "    concavity (mean):                     0.0    0.427\n",
      "    concave points (mean):                0.0    0.201\n",
      "    symmetry (mean):                      0.106  0.304\n",
      "    fractal dimension (mean):             0.05   0.097\n",
      "    radius (standard error):              0.112  2.873\n",
      "    texture (standard error):             0.36   4.885\n",
      "    perimeter (standard error):           0.757  21.98\n",
      "    area (standard error):                6.802  542.2\n",
      "    smoothness (standard error):          0.002  0.031\n",
      "    compactness (standard error):         0.002  0.135\n",
      "    concavity (standard error):           0.0    0.396\n",
      "    concave points (standard error):      0.0    0.053\n",
      "    symmetry (standard error):            0.008  0.079\n",
      "    fractal dimension (standard error):   0.001  0.03\n",
      "    radius (worst):                       7.93   36.04\n",
      "    texture (worst):                      12.02  49.54\n",
      "    perimeter (worst):                    50.41  251.2\n",
      "    area (worst):                         185.2  4254.0\n",
      "    smoothness (worst):                   0.071  0.223\n",
      "    compactness (worst):                  0.027  1.058\n",
      "    concavity (worst):                    0.0    1.252\n",
      "    concave points (worst):               0.0    0.291\n",
      "    symmetry (worst):                     0.156  0.664\n",
      "    fractal dimension (worst):            0.055  0.208\n",
      "    ===================================== ====== ======\n",
      "\n",
      "    :Missing Attribute Values: None\n",
      "\n",
      "    :Class Distribution: 212 - Malignant, 357 - Benign\n",
      "\n",
      "    :Creator:  Dr. William H. Wolberg, W. Nick Street, Olvi L. Mangasarian\n",
      "\n",
      "    :Donor: Nick Street\n",
      "\n",
      "    :Date: November, 1995\n",
      "\n",
      "This is a copy of UCI ML Breast Cancer Wisconsin (Diagnostic) datasets.\n",
      "https://goo.gl/U2Uwz2\n",
      "\n",
      "Features are computed from a digitized image of a fine needle\n",
      "aspirate (FNA) of a breast mass.  They describe\n",
      "characteristics of the cell nuclei present in the image.\n",
      "\n",
      "Separating plane described above was obtained using\n",
      "Multisurface Method-Tree (MSM-T) [K. P. Bennett, \"Decision Tree\n",
      "Construction Via Linear Programming.\" Proceedings of the 4th\n",
      "Midwest Artificial Intelligence and Cognitive Science Society,\n",
      "pp. 97-101, 1992], a classification method which uses linear\n",
      "programming to construct a decision tree.  Relevant features\n",
      "were selected using an exhaustive search in the space of 1-4\n",
      "features and 1-3 separating planes.\n",
      "\n",
      "The actual linear program used to obtain the separating plane\n",
      "in the 3-dimensional space is that described in:\n",
      "[K. P. Bennett and O. L. Mangasarian: \"Robust Linear\n",
      "Programming Discrimination of Two Linearly Inseparable Sets\",\n",
      "Optimization Methods and Software 1, 1992, 23-34].\n",
      "\n",
      "This database is also available through the UW CS ftp server:\n",
      "\n",
      "ftp ftp.cs.wisc.edu\n",
      "cd math-prog/cpo-dataset/machine-learn/WDBC/\n",
      "\n",
      ".. topic:: References\n",
      "\n",
      "   - W.N. Street, W.H. Wolberg and O.L. Mangasarian. Nuclear feature extraction \n",
      "     for breast tumor diagnosis. IS&T/SPIE 1993 International Symposium on \n",
      "     Electronic Imaging: Science and Technology, volume 1905, pages 861-870,\n",
      "     San Jose, CA, 1993.\n",
      "   - O.L. Mangasarian, W.N. Street and W.H. Wolberg. Breast cancer diagnosis and \n",
      "     prognosis via linear programming. Operations Research, 43(4), pages 570-577, \n",
      "     July-August 1995.\n",
      "   - W.H. Wolberg, W.N. Street, and O.L. Mangasarian. Machine learning techniques\n",
      "     to diagnose breast cancer from fine-needle aspirates. Cancer Letters 77 (1994) \n",
      "     163-171.\n"
     ]
    }
   ],
   "source": [
    "breast_ds = ds.load_breast_cancer()\n",
    "print('Data fields in breast_ds: \\n', dir(breast_ds))\n",
    "\n",
    "print('\\n Dataset description:\\n', breast_ds['DESCR'])"
   ]
  },
  {
   "cell_type": "code",
   "execution_count": 4,
   "metadata": {
    "scrolled": true
   },
   "outputs": [
    {
     "name": "stdout",
     "output_type": "stream",
     "text": [
      "Size of feature vectors:  (569, 10)\n",
      "Size of targets:  (569,)\n"
     ]
    }
   ],
   "source": [
    "# we are going to use the first 10 features in this assignment.\n",
    "ftrs = breast_ds.data[:, :10]\n",
    "tgts = breast_ds.target\n",
    "\n",
    "print('Size of feature vectors: ', ftrs.shape)\n",
    "print('Size of targets: ', tgts.shape)\n",
    "\n",
    "#print('Target labels:\\n', tgts)"
   ]
  },
  {
   "cell_type": "markdown",
   "metadata": {},
   "source": [
    "### Task 1: Explore the dataset.  30 points <a id = \"section1\"/>\n",
    "    - count the number of data samples for each category. \n",
    "    - calculate the the mean feature vectors.\n",
    "    - plot the mean feature vectors."
   ]
  },
  {
   "cell_type": "code",
   "execution_count": 5,
   "metadata": {
    "scrolled": true
   },
   "outputs": [
    {
     "name": "stdout",
     "output_type": "stream",
     "text": [
      "malignant_count: 212\n",
      "benign_count: 357\n"
     ]
    }
   ],
   "source": [
    "# count and print out the number of malignant samples (0)\n",
    "malignant = (tgts == 0)\n",
    "malignant_count = malignant.sum()\n",
    "print(f'malignant_count: {malignant_count}')\n",
    "\n",
    "# count and print out the number of benign samples (1)\n",
    "benign = (tgts == 1)\n",
    "benign_count = benign.sum()\n",
    "print(f'benign_count: {benign_count}')"
   ]
  },
  {
   "cell_type": "code",
   "execution_count": 37,
   "metadata": {},
   "outputs": [
    {
     "name": "stdout",
     "output_type": "stream",
     "text": [
      "all_mean: [1.41272917e+01 1.92896485e+01 9.19690334e+01 6.54889104e+02\n",
      " 9.63602812e-02 1.04340984e-01 8.87993158e-02 4.89191459e-02\n",
      " 1.81161863e-01 6.27976098e-02]\n",
      "(0, 10)\n",
      "b_mean: [1.21465238e+01 1.79147619e+01 7.80754062e+01 4.62790196e+02\n",
      " 9.24776471e-02 8.00846218e-02 4.60576210e-02 2.57174062e-02\n",
      " 1.74185994e-01 6.28673950e-02]\n",
      "m_mean: [1.74628302e+01 2.16049057e+01 1.15365377e+02 9.78376415e+02\n",
      " 1.02898491e-01 1.45187783e-01 1.60774717e-01 8.79900000e-02\n",
      " 1.92908962e-01 6.26800943e-02]\n"
     ]
    }
   ],
   "source": [
    "# mean of all feature vectors\n",
    "all_mean = np.mean(ftrs, axis=0)\n",
    "print('all_mean:', all_mean)\n",
    "\n",
    "# mean of benign feature vectors\n",
    "benign_ftrs = np.empty(shape=[0,10])\n",
    "malignant_ftrs = np.empty(shape=[0,10])\n",
    "print(benign_ftrs.shape)\n",
    "for i, row in enumerate(ftrs):\n",
    "    if tgts[i]:\n",
    "        benign_ftrs = np.vstack((benign_ftrs, row))\n",
    "    else:\n",
    "        malignant_ftrs = np.vstack((malignant_ftrs, row))\n",
    "\n",
    "\n",
    "# mean of benign feature vectors\n",
    "b_mean = np.mean(benign_ftrs, axis=0)\n",
    "print(f'b_mean: {b_mean}')\n",
    "\n",
    "# mean of malignant feature vectors\n",
    "m_mean = np.mean(malignant_ftrs, axis=0)\n",
    "print(f'm_mean: {m_mean}')"
   ]
  },
  {
   "cell_type": "code",
   "execution_count": 45,
   "metadata": {},
   "outputs": [
    {
     "data": {
      "image/png": "[encoded data removed]",
      "text/plain": [
       "<Figure size 432x288 with 1 Axes>"
      ]
     },
     "metadata": {
      "needs_background": "light"
     },
     "output_type": "display_data"
    }
   ],
   "source": [
    "# show the mean feature vectors using matplotlib \n",
    "from matplotlib import pyplot as plt\n",
    "\n",
    "plt.plot(all_mean, 'bo', label='all_mean')\n",
    "plt.plot(b_mean, 'r*', label='b_mean')\n",
    "plt.plot(m_mean, 'mo', label='m_mean')\n",
    "plt.legend(loc='upper right')\n",
    "plt.show()"
   ]
  },
  {
   "cell_type": "markdown",
   "metadata": {},
   "source": [
    "### Task 2: Data search. 10 points.  <a id = \"section2\"/>\n",
    "\n",
    "Let the user input a sample id (0 to 568), and your code will output the feature vector and the corresponding class label of that sample.\n",
    "\n",
    "    - Extra 5 points for dealing with abnormal input\n",
    "    - 5 extra points for enabling multiple searches in one run\n"
   ]
  },
  {
   "cell_type": "code",
   "execution_count": 31,
   "metadata": {},
   "outputs": [
    {
     "name": "stdout",
     "output_type": "stream",
     "text": [
      "Enter sample id: 1\n",
      "sample_id: 1\n",
      "class_label: malignant\n",
      "values: [2.057e+01 1.777e+01 1.329e+02 1.326e+03 8.474e-02 7.864e-02 8.690e-02\n",
      " 7.017e-02 1.812e-01 5.667e-02]\n"
     ]
    }
   ],
   "source": [
    "# tip: use the input() function\n",
    "def search_ftrs():\n",
    "    sample_id = int(input('Enter sample id: '))\n",
    "    if sample_id < 0 or sample_id > 568:\n",
    "        print('Please enter a value between 0 and 568!')\n",
    "        return\n",
    "    print(f'sample_id: {sample_id}')\n",
    "    if tgts[sample_id]:\n",
    "        print('class_label: benign')\n",
    "    else:\n",
    "        print('class_label: malignant')\n",
    "    \n",
    "    print(f'values: {ftrs[sample_id]}')\n",
    "    \n",
    "search_ftrs()"
   ]
  },
  {
   "cell_type": "markdown",
   "metadata": {},
   "source": [
    "### Task 3.  Study the 'area' feature. 30 points  <a id = \"section3\"/>"
   ]
  },
  {
   "cell_type": "code",
   "execution_count": 40,
   "metadata": {},
   "outputs": [
    {
     "name": "stdout",
     "output_type": "stream",
     "text": [
      "benign samples area (index 3) mean: 462.79019607843145\n",
      "benign samples area (index 3) min: 143.5\n",
      "benign samples area (index 3) max: 992.1\n"
     ]
    },
    {
     "data": {
      "image/png": "[encoded data removed]",
      "text/plain": [
       "<Figure size 432x288 with 1 Axes>"
      ]
     },
     "metadata": {
      "needs_background": "light"
     },
     "output_type": "display_data"
    }
   ],
   "source": [
    "#Task 3.1: Calculate and print out the mean, min and max values \n",
    "# of the feature 'area (index 3)' for all benign samples.\n",
    "print(f'benign samples area (index 3) mean: {b_mean[3]}')\n",
    "print(f'benign samples area (index 3) min: {np.amin(benign_ftrs, axis=0)[3]}')\n",
    "print(f'benign samples area (index 3) max: {np.amax(benign_ftrs, axis=0)[3]}')\n",
    "\n",
    "# plot the area features of all benign samples\n",
    "plt.plot(benign_ftrs[:,3])\n",
    "plt.show()\n"
   ]
  },
  {
   "cell_type": "code",
   "execution_count": 42,
   "metadata": {},
   "outputs": [
    {
     "name": "stdout",
     "output_type": "stream",
     "text": [
      "benign samples area (index 3) mean: 978.3764150943397\n",
      "benign samples area (index 3) min: 361.6\n",
      "benign samples area (index 3) max: 2501.0\n"
     ]
    },
    {
     "data": {
      "image/png": "[encoded data removed]",
      "text/plain": [
       "<Figure size 432x288 with 1 Axes>"
      ]
     },
     "metadata": {
      "needs_background": "light"
     },
     "output_type": "display_data"
    }
   ],
   "source": [
    "#Task 3.2: Calculate and print out the mean, min and max values \n",
    "# of the feature 'area (index 3)' for all malignant samples.\n",
    "print(f'benign samples area (index 3) mean: {m_mean[3]}')\n",
    "print(f'benign samples area (index 3) min: {np.amin(malignant_ftrs, axis=0)[3]}')\n",
    "print(f'benign samples area (index 3) max: {np.amax(malignant_ftrs, axis=0)[3]}')\n",
    "\n",
    "# plot the area features of all malignant samples\n",
    "plt.plot(malignant_ftrs[:,3])\n",
    "plt.show()\n"
   ]
  },
  {
   "cell_type": "markdown",
   "metadata": {
    "scrolled": true
   },
   "source": [
    "### Task 4: Count the number of malignant samples that have 'area (index 3)' values less than 600. 10 points  <a id = \"section4\"/>\n",
    "\n"
   ]
  },
  {
   "cell_type": "code",
   "execution_count": 38,
   "metadata": {},
   "outputs": [
    {
     "name": "stdout",
     "output_type": "stream",
     "text": [
      "malignant_count: 31\n"
     ]
    }
   ],
   "source": [
    "malignant_count = 0\n",
    "for row in malignant_ftrs:\n",
    "    if row[3] < 600:\n",
    "        malignant_count += 1\n",
    "print(f'malignant_count: {malignant_count}')"
   ]
  },
  {
   "cell_type": "markdown",
   "metadata": {},
   "source": [
    "### Task 5. 20 points <a id = \"section5\"/>\n",
    "\n",
    "Define a function that calculates and return the Euclidean distance between any two given data samples\n",
    " "
   ]
  },
  {
   "cell_type": "code",
   "execution_count": 43,
   "metadata": {},
   "outputs": [
    {
     "name": "stdout",
     "output_type": "stream",
     "text": [
      "two malignant samples: 123.08662898837753\n",
      "two benign samples: 46.35812850705252\n",
      "between two mean vectors: 516.9734937120692\n"
     ]
    }
   ],
   "source": [
    "def Eclidean(a, b):\n",
    "    '''\n",
    "        inputs:a, b: feature vectors of two patients\n",
    "        \n",
    "        return: d: the distance\n",
    "    '''\n",
    "    return np.sqrt(np.sum((a - b) ** 2))\n",
    "\n",
    "\n",
    "# test\n",
    "print('two malignant samples:', Eclidean(ftrs[1], ftrs[2])) # two maliganant samples\n",
    "print('two benign samples:', Eclidean(ftrs[19], ftrs[20])) # two benign samples\n",
    "print('between two mean vectors:', Eclidean(b_mean, m_mean)) # betwwen means"
   ]
  }
 ],
 "metadata": {
  "kernelspec": {
   "display_name": "Python 3 (ipykernel)",
   "language": "python",
   "name": "python3"
  },
  "language_info": {
   "codemirror_mode": {
    "name": "ipython",
    "version": 3
   },
   "file_extension": ".py",
   "mimetype": "text/x-python",
   "name": "python",
   "nbconvert_exporter": "python",
   "pygments_lexer": "ipython3",
   "version": "3.9.7"
  }
 },
 "nbformat": 4,
 "nbformat_minor": 4
}
