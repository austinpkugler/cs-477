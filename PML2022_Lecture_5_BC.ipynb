{
 "cells": [
  {
   "cell_type": "markdown",
   "metadata": {},
   "source": [
    "# Lecture 5: Functions and Modules\n",
    "\n",
    "Why do we need functions?\n",
    "\n",
    "    1. maximize code reuse and reduce redundancy. Functions are the simplest way to package logic we may want to use in more than one place and more than one time. \n",
    "    \n",
    "    2. procedural decomposition. Functions provide a tool for splitting systems into pieces that have well-defined roles. Take the implementation of a machine learning program for example, it includes the following subtasks:\n",
    "    \n",
    "        1. data loading\n",
    "        2. data preprocessing\n",
    "        3. feature extraction\n",
    "        4. training\n",
    "        5. test and evaluation\n",
    "        6. model persistance\n",
    "\n",
    "### Agenda:\n",
    "\n",
    "- [Functions](#section1)\n",
    "- [Modules and Packages](#section2)"
   ]
  },
  {
   "cell_type": "markdown",
   "metadata": {
    "slideshow": {
     "slide_type": "slide"
    }
   },
   "source": [
    "## Functions<a id='section1'>\n",
    "\n",
    "Python built-in functions and user-defined functions\n",
    "    \n",
    "    1. Python built-in functions: https://docs.python.org/3.9/library/functions.html#len \n",
    "    \n",
    "    2. User-defined functions\n",
    "        1. **def** statement creates an object and assign it a name\n",
    "        2. **return** sends a result object back to the caller\n",
    "        3. **global**: module level variable\n",
    "        4. **nonlocal**: function level\n",
    "    \n",
    "    3. Function arguments \n",
    "    \n",
    "    4. **lambda** creates an object (anonymous function) but return it  as a results"
   ]
  },
  {
   "cell_type": "markdown",
   "metadata": {},
   "source": [
    "### 2. Practice user-defined functions"
   ]
  },
  {
   "cell_type": "code",
   "execution_count": 1,
   "metadata": {},
   "outputs": [
    {
     "name": "stdout",
     "output_type": "stream",
     "text": [
      "-40\n"
     ]
    }
   ],
   "source": [
    "#2 Practice user-defined functions\n",
    "def times(x, y=1):\n",
    "    return x * y\n",
    "\n",
    "z = times(10, -4)\n",
    "print(z)"
   ]
  },
  {
   "cell_type": "markdown",
   "metadata": {},
   "source": [
    "#### Function arguments"
   ]
  },
  {
   "cell_type": "code",
   "execution_count": 2,
   "metadata": {},
   "outputs": [],
   "source": [
    "# default arguments\n"
   ]
  },
  {
   "cell_type": "code",
   "execution_count": 4,
   "metadata": {},
   "outputs": [],
   "source": [
    "# default argument position: default argument must \n",
    "# follow non-default arguments \n"
   ]
  },
  {
   "cell_type": "markdown",
   "metadata": {},
   "source": [
    "#### Using keyword args to call a function"
   ]
  },
  {
   "cell_type": "code",
   "execution_count": 2,
   "metadata": {},
   "outputs": [
    {
     "data": {
      "text/plain": [
       "300"
      ]
     },
     "execution_count": 2,
     "metadata": {},
     "output_type": "execute_result"
    }
   ],
   "source": [
    "def power(x, base =10,  y = 2):\n",
    "    return x*(base**y)\n",
    "\n",
    "# call function using positional args.\n",
    "\n",
    "\n",
    "#call function using keyword args: kwarg = value\n",
    "\n",
    "\n",
    "#the order is not important\n",
    "power(y=2, x=3)"
   ]
  },
  {
   "cell_type": "code",
   "execution_count": 90,
   "metadata": {},
   "outputs": [
    {
     "ename": "SyntaxError",
     "evalue": "positional argument follows keyword argument (<ipython-input-90-4574272266b6>, line 2)",
     "output_type": "error",
     "traceback": [
      "\u001b[1;36m  File \u001b[1;32m\"<ipython-input-90-4574272266b6>\"\u001b[1;36m, line \u001b[1;32m2\u001b[0m\n\u001b[1;33m    power(y=2, 3)\u001b[0m\n\u001b[1;37m              ^\u001b[0m\n\u001b[1;31mSyntaxError\u001b[0m\u001b[1;31m:\u001b[0m positional argument follows keyword argument\n"
     ]
    }
   ],
   "source": [
    "# the order is not important, but...\n",
    "power() # need value for the required arg. x\n",
    "power(y=2, 3) # no positional args. after key args."
   ]
  },
  {
   "cell_type": "markdown",
   "metadata": {},
   "source": [
    "#### Functons with args.  \\*name, \\**name"
   ]
  },
  {
   "cell_type": "code",
   "execution_count": 109,
   "metadata": {},
   "outputs": [
    {
     "name": "stdout",
     "output_type": "stream",
     "text": [
      "x is 2.\n",
      "10 is in *args\n",
      "100 is in *args\n",
      "1000 is in *args\n",
      "2 is in **kwds\n",
      "3 is in **kwds\n",
      "4 is in **kwds\n",
      "x is 2.\n",
      "10 is in *args\n",
      "100 is in *args\n",
      "1000 is in *args\n",
      "2 is in **kwds\n",
      "3 is in **kwds\n",
      "4 is in **kwds\n"
     ]
    },
    {
     "data": {
      "text/plain": [
       "[200, 2000000, 2000000000000]"
      ]
     },
     "execution_count": 109,
     "metadata": {},
     "output_type": "execute_result"
    }
   ],
   "source": [
    "#functons with args. *name, **name\n",
    "# make the arg. list short\n",
    "def power(x, *args,  **kwds):\n",
    "    #*args receives a tuple containing positional args.: (t1, t2, t3, ...)\n",
    "    #**kwds recieves a dictionary containing all keyword args.: {k1: v1, k2: v2, ...}\n",
    "    res = []\n",
    "    print('x is {}.'.format(x))\n",
    "    for t in args:\n",
    "        print('{} is in *args'.format(t))\n",
    "    i = 0\n",
    "    for d in kwds:\n",
    "        print('{} is in **kwds'.format(kwds[d]))\n",
    "        res.append(x * args[i]**kwds[d])\n",
    "        i += 1\n",
    "    return res\n",
    "\n",
    "power(2, 10, 100, 1000, p1=2, p2=3, p3=4)\n",
    "\n",
    "base = (10, 100, 1000)\n",
    "powers = {'p1':2, 'p2':3, 'p3':4}\n",
    "power(2, *base, **powers)"
   ]
  },
  {
   "cell_type": "code",
   "execution_count": 46,
   "metadata": {},
   "outputs": [
    {
     "name": "stdout",
     "output_type": "stream",
     "text": [
      "<class 'tuple'>\n",
      "1 is in args.\n",
      "2 is in args.\n",
      "4 is in args.\n",
      "8 is in args.\n",
      "16 is in args.\n"
     ]
    }
   ],
   "source": [
    "# arbitray argument list\n",
    "def ablist(*args):\n",
    "    print(type(args))\n",
    "    for t in args:\n",
    "        print('{} is in args.'.format(t))\n",
    "\n",
    "ablist(1, 2, 4, 8, 16)"
   ]
  },
  {
   "cell_type": "markdown",
   "metadata": {},
   "source": [
    "### 4: lambda: small anonymous in-line functions "
   ]
  },
  {
   "cell_type": "code",
   "execution_count": 94,
   "metadata": {},
   "outputs": [
    {
     "data": {
      "text/plain": [
       "5"
      ]
     },
     "execution_count": 94,
     "metadata": {},
     "output_type": "execute_result"
    }
   ],
   "source": [
    "#4: lambda: small anonymous in-line functions \n",
    "# format: lambda parameters: expression. It behaves like\n",
    "# def <lambda>(parameters): expression\n",
    "\n",
    "add  = lambda a, b: a+b\n",
    "add(3, 2)"
   ]
  },
  {
   "cell_type": "markdown",
   "metadata": {},
   "source": [
    "## Modules and Packages<a id='section2'>\n",
    "1. A module is a file containing Python definitions and statements. The file name is the module name with the suffix .py appended, e.g.,math.py.\n",
    "2. A package are a collections of modules. Refer to Section 6.4.\n",
    "3. Python standard modules: https://docs.python.org/3.9/py-modindex.html   "
   ]
  },
  {
   "cell_type": "code",
   "execution_count": 4,
   "metadata": {
    "collapsed": true,
    "scrolled": true
   },
   "outputs": [],
   "source": [
    "import math\n",
    "#dir(math) # all attributes in math module"
   ]
  },
  {
   "cell_type": "markdown",
   "metadata": {},
   "source": [
    "#### Built-in functions and Modules\n",
    "1. Python built-in functions: https://docs.python.org/3.6/library/functions.html#len\n",
    "2. Python standard modules: https://docs.python.org/3.6/py-modindex.html \n",
    "    . A module is a file containing Python definitions and statements. The file name is the module name with the suffix .py appended"
   ]
  },
  {
   "cell_type": "code",
   "execution_count": 116,
   "metadata": {
    "scrolled": true
   },
   "outputs": [
    {
     "name": "stdout",
     "output_type": "stream",
     "text": [
      "Help on built-in function acos in module math:\n",
      "\n",
      "acos(...)\n",
      "    acos(x)\n",
      "    \n",
      "    Return the arc cosine (measured in radians) of x.\n",
      "\n"
     ]
    }
   ],
   "source": [
    "import math\n",
    "dir(math)\n",
    "help(math.acos)"
   ]
  },
  {
   "cell_type": "code",
   "execution_count": null,
   "metadata": {
    "collapsed": true
   },
   "outputs": [],
   "source": []
  }
 ],
 "metadata": {
  "kernelspec": {
   "display_name": "Python 3 (ipykernel)",
   "language": "python",
   "name": "python3"
  },
  "language_info": {
   "codemirror_mode": {
    "name": "ipython",
    "version": 3
   },
   "file_extension": ".py",
   "mimetype": "text/x-python",
   "name": "python",
   "nbconvert_exporter": "python",
   "pygments_lexer": "ipython3",
   "version": "3.9.7"
  }
 },
 "nbformat": 4,
 "nbformat_minor": 2
}
