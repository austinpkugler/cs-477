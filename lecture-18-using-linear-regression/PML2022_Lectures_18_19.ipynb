{
 "cells": [
  {
   "cell_type": "markdown",
   "metadata": {},
   "source": [
    "# Lecture 19\n",
    "\n",
    "1. Regression models, OLS, RIDGE, LASSO\n",
    "    1. Applications\n",
    "    2. Models\n",
    "    \n",
    "2. Evaluate regression models\n",
    "    1. Mean squared errors (MSE)\n",
    "    2. R^2\n",
    "    \n",
    "3. Linear regression (LR)\n",
    "    1. Ordinary LR\n",
    "    2. LR with regularization\n",
    "    \n",
    "4. Robust regression\n",
    "\n",
    "    4.1. Goal: fitting a regression model in the presence of corrupt data: either outliers, or error in the model\n",
    "    \n",
    "    4.2. Robust regression approaches\n",
    "        1. RANdom SAmple Consensus (RANSAC)\n",
    "        2. Theil-Sen\n",
    "        3. Huber Regression"
   ]
  },
  {
   "cell_type": "markdown",
   "metadata": {},
   "source": [
    "### 1. Regression models\n",
    "    1. Regression is a subcategory of supervised machine learning\n",
    "    2. The goal of regression is to model the relationship between one or multiple features and a continuous target variable"
   ]
  },
  {
   "cell_type": "code",
   "execution_count": 8,
   "metadata": {},
   "outputs": [
    {
     "name": "stdout",
     "output_type": "stream",
     "text": [
      "(506, 13) (506,)\n",
      ".. _boston_dataset:\n",
      "\n",
      "Boston house prices dataset\n",
      "---------------------------\n",
      "\n",
      "**Data Set Characteristics:**  \n",
      "\n",
      "    :Number of Instances: 506 \n",
      "\n",
      "    :Number of Attributes: 13 numeric/categorical predictive. Median Value (attribute 14) is usually the target.\n",
      "\n",
      "    :Attribute Information (in order):\n",
      "        - CRIM     per capita crime rate by town\n",
      "        - ZN       proportion of residential land zoned for lots over 25,000 sq.ft.\n",
      "        - INDUS    proportion of non-retail business acres per town\n",
      "        - CHAS     Charles River dummy variable (= 1 if tract bounds river; 0 otherwise)\n",
      "        - NOX      nitric oxides concentration (parts per 10 million)\n",
      "        - RM       average number of rooms per dwelling\n",
      "        - AGE      proportion of owner-occupied units built prior to 1940\n",
      "        - DIS      weighted distances to five Boston employment centres\n",
      "        - RAD      index of accessibility to radial highways\n",
      "        - TAX      full-value property-tax rate per $10,000\n",
      "        - PTRATIO  pupil-teacher ratio by town\n",
      "        - B        1000(Bk - 0.63)^2 where Bk is the proportion of blacks by town\n",
      "        - LSTAT    % lower status of the population\n",
      "        - MEDV     Median value of owner-occupied homes in $1000's\n",
      "\n",
      "    :Missing Attribute Values: None\n",
      "\n",
      "    :Creator: Harrison, D. and Rubinfeld, D.L.\n",
      "\n",
      "This is a copy of UCI ML housing dataset.\n",
      "https://archive.ics.uci.edu/ml/machine-learning-databases/housing/\n",
      "\n",
      "\n",
      "This dataset was taken from the StatLib library which is maintained at Carnegie Mellon University.\n",
      "\n",
      "The Boston house-price data of Harrison, D. and Rubinfeld, D.L. 'Hedonic\n",
      "prices and the demand for clean air', J. Environ. Economics & Management,\n",
      "vol.5, 81-102, 1978.   Used in Belsley, Kuh & Welsch, 'Regression diagnostics\n",
      "...', Wiley, 1980.   N.B. Various transformations are used in the table on\n",
      "pages 244-261 of the latter.\n",
      "\n",
      "The Boston house-price data has been used in many machine learning papers that address regression\n",
      "problems.   \n",
      "     \n",
      ".. topic:: References\n",
      "\n",
      "   - Belsley, Kuh & Welsch, 'Regression diagnostics: Identifying Influential Data and Sources of Collinearity', Wiley, 1980. 244-261.\n",
      "   - Quinlan,R. (1993). Combining Instance-Based and Model-Based Learning. In Proceedings on the Tenth International Conference of Machine Learning, 236-243, University of Massachusetts, Amherst. Morgan Kaufmann.\n",
      "\n"
     ]
    }
   ],
   "source": [
    "# datasets: Boston House Price Prediction\n",
    "\n",
    "from sklearn import datasets\n",
    "from sklearn.model_selection import train_test_split\n",
    "\n",
    "ds = datasets.load_boston()\n",
    "#ds1 = datasets.load_diabetes()\n",
    "X = ds.data\n",
    "y = ds.target\n",
    "\n",
    "print(X.shape, y.shape)\n",
    "print(ds['DESCR'])\n",
    "\n",
    "X_train, X_test, y_train, y_test = train_test_split(X, y, test_size = 0.3, random_state = 0)"
   ]
  },
  {
   "cell_type": "markdown",
   "metadata": {},
   "source": [
    "### 2. Evaluate regression models\n",
    "    1. Mean squared error (MSE)\n",
    "    2. R^2"
   ]
  },
  {
   "cell_type": "code",
   "execution_count": 9,
   "metadata": {},
   "outputs": [],
   "source": [
    "from sklearn.metrics import mean_squared_error as mse, r2_score as r_2\n",
    "# mse: as small as possible, there is not bounded: non-negative values\n",
    "# R^2: <=1. 1 is the best.\n",
    "\n",
    "def regression_metrics(y_train, y_train_pred, y_test, y_test_pred):\n",
    "    print('MSE Train: ', round(mse(y_train, y_train_pred), 3))\n",
    "    print('MSE Test: ', round(mse(y_test, y_test_pred), 3))\n",
    "\n",
    "    print('R^2 Train: ', round(r_2(y_train, y_train_pred), 3))\n",
    "    print('R^2 Test: ', round(r_2(y_test, y_test_pred), 3))"
   ]
  },
  {
   "cell_type": "markdown",
   "metadata": {},
   "source": [
    "### 3. Linear regression\n",
    "1. Ordinary least squares regression\n",
    "2. Regularization\n",
    "    1. Regularization is an approach to address the overfitting problem by adding additional information to loss/cost function\n",
    "    2. Popular regularizationapproaches used to shrink the parameter values to control the complexity of models\n",
    "        1. Ridge\n",
    "        2. LASSO: Least absolute shrinkage and selection operator\n",
    "        3. Elastic Net"
   ]
  },
  {
   "cell_type": "code",
   "execution_count": 10,
   "metadata": {},
   "outputs": [
    {
     "name": "stdout",
     "output_type": "stream",
     "text": [
      "MSE Train:  19.958\n",
      "MSE Test:  27.196\n",
      "R^2 Train:  0.765\n",
      "R^2 Test:  0.673\n"
     ]
    }
   ],
   "source": [
    "#2.1 ordinary least squares(OLS)\n",
    "from sklearn.linear_model import LinearRegression # OLS\n",
    "\n",
    "# create an OLS model\n",
    "slr = LinearRegression()\n",
    "# train the model\n",
    "slr.fit(X_train, y_train)\n",
    "\n",
    "#evaluation \n",
    "y_train_pred = slr.predict(X_train)\n",
    "y_test_pred = slr.predict(X_test)\n",
    "regression_metrics(y_train, y_train_pred, y_test, y_test_pred)"
   ]
  },
  {
   "cell_type": "code",
   "execution_count": 11,
   "metadata": {},
   "outputs": [
    {
     "data": {
      "text/plain": [
       "array([-1.21310401e-01,  4.44664254e-02,  1.13416945e-02,  2.51124642e+00,\n",
       "       -1.62312529e+01,  3.85906801e+00, -9.98516565e-03, -1.50026956e+00,\n",
       "        2.42143466e-01, -1.10716124e-02, -1.01775264e+00,  6.81446545e-03,\n",
       "       -4.86738066e-01])"
      ]
     },
     "execution_count": 11,
     "metadata": {},
     "output_type": "execute_result"
    }
   ],
   "source": [
    "# w1, w2, ..., w13: weights of the 13 features in the linear model\n",
    "#  if the weight is negative, the corresponding feature contribute negatively to the house price\n",
    "#\n",
    "slr.coef_"
   ]
  },
  {
   "cell_type": "code",
   "execution_count": 12,
   "metadata": {},
   "outputs": [
    {
     "data": {
      "text/plain": [
       "37.93710774183255"
      ]
     },
     "execution_count": 12,
     "metadata": {},
     "output_type": "execute_result"
    }
   ],
   "source": [
    "#w0\n",
    "slr.intercept_"
   ]
  },
  {
   "cell_type": "code",
   "execution_count": 20,
   "metadata": {},
   "outputs": [
    {
     "name": "stdout",
     "output_type": "stream",
     "text": [
      "MSE Train:  20.669\n",
      "MSE Test:  28.577\n",
      "R^2 Train:  0.756\n",
      "R^2 Test:  0.657\n"
     ]
    }
   ],
   "source": [
    "# Ridge regression\n",
    "from sklearn.linear_model import Ridge, RidgeCV\n",
    "\n",
    "ridge = Ridge(alpha=10) # \n",
    "ridge.fit(X_train, y_train)\n",
    "\n",
    "y_train_pred = ridge.predict(X_train)\n",
    "y_test_pred = ridge.predict(X_test)\n",
    "\n",
    "regression_metrics(y_train, y_train_pred, y_test, y_test_pred)"
   ]
  },
  {
   "cell_type": "code",
   "execution_count": 21,
   "metadata": {},
   "outputs": [
    {
     "data": {
      "text/plain": [
       "array([-0.11600775,  0.04860858, -0.04717524,  1.78596112, -1.54034964,\n",
       "        3.62064022, -0.02163631, -1.30968017,  0.2115068 , -0.01266439,\n",
       "       -0.8763982 ,  0.00768841, -0.52409894])"
      ]
     },
     "execution_count": 21,
     "metadata": {},
     "output_type": "execute_result"
    }
   ],
   "source": [
    "ridge.coef_"
   ]
  },
  {
   "cell_type": "code",
   "execution_count": 5,
   "metadata": {},
   "outputs": [
    {
     "data": {
      "image/png": "[encoded data removed]",
      "text/plain": [
       "<Figure size 432x288 with 1 Axes>"
      ]
     },
     "metadata": {
      "needs_background": "light"
     },
     "output_type": "display_data"
    }
   ],
   "source": [
    "# shrink weights\n",
    "import matplotlib.pyplot as plt\n",
    "\n",
    "import numpy as np\n",
    "\n",
    "n_alphas = 2000\n",
    "alphas = np.logspace(-3, 2, n_alphas)\n",
    "\n",
    "coefs = []\n",
    "for a in alphas:\n",
    "    ridge = Ridge(alpha=a, fit_intercept=False)\n",
    "    ridge.fit(X_train, y_train)\n",
    "    coefs.append(ridge.coef_)\n",
    "\n",
    "# Display results\n",
    "\n",
    "ax = plt.gca()\n",
    "ax.plot(alphas, coefs)\n",
    "ax.set_xscale('log')\n",
    "ax.set_xlim(ax.get_xlim()[::-1])  # reverse axis\n",
    "plt.xlabel('alpha')\n",
    "plt.ylabel('weights')\n",
    "plt.title('Ridge coefficients as a function of the regularization')\n",
    "plt.axis('tight')\n",
    "plt.show()"
   ]
  },
  {
   "cell_type": "code",
   "execution_count": 22,
   "metadata": {},
   "outputs": [
    {
     "name": "stdout",
     "output_type": "stream",
     "text": [
      "MSE Train:  24.717\n",
      "MSE Test:  32.345\n",
      "R^2 Train:  0.708\n",
      "R^2 Test:  0.612\n"
     ]
    }
   ],
   "source": [
    "# Lasso\n",
    "from sklearn.linear_model import Lasso, LassoCV\n",
    "\n",
    "lasso = Lasso(alpha=1)\n",
    "lasso.fit(X_train, y_train)\n",
    "\n",
    "y_train_pred = lasso.predict(X_train)\n",
    "y_test_pred = lasso.predict(X_test)\n",
    "\n",
    "regression_metrics(y_train, y_train_pred, y_test, y_test_pred)"
   ]
  },
  {
   "cell_type": "code",
   "execution_count": 7,
   "metadata": {},
   "outputs": [
    {
     "name": "stdout",
     "output_type": "stream",
     "text": [
      "MSE Train:  20.926\n",
      "MSE Test:  28.876\n",
      "R^2 Train:  0.753\n",
      "R^2 Test:  0.653\n"
     ]
    }
   ],
   "source": [
    "# Elastic Net\n",
    "from sklearn.linear_model import ElasticNet\n",
    "\n",
    "elanet = ElasticNet(alpha=0.1, l1_ratio=1)\n",
    "elanet.fit(X_train, y_train)\n",
    "\n",
    "y_train_pred = elanet.predict(X_train)\n",
    "y_test_pred = elanet.predict(X_test)\n",
    "\n",
    "regression_metrics(y_train, y_train_pred, y_test, y_test_pred)"
   ]
  },
  {
   "cell_type": "code",
   "execution_count": null,
   "metadata": {},
   "outputs": [],
   "source": [
    " "
   ]
  },
  {
   "cell_type": "markdown",
   "metadata": {},
   "source": [
    "### 4.2.1 RANSAC Details\n",
    "1. Select a random number of samples (*min_samples*) to be inliers and **fit the model using OLS (*LinearRegression()*)**.\n",
    "2. Test all other data points against the fitted model and add those points that fall within a user-given tolerance (*residual_threshold*) to the inliers.\n",
    "3. Refit the model using all inliers.\n",
    "4. Estimate the error of the fitted model versus the inliers.\n",
    "5. Terminate the algorithm if the performance meets a certain user-defined threshold or if a fixed number of iterations  (*max_trials*) were reached; go back to step 1 otherwise."
   ]
  },
  {
   "cell_type": "code",
   "execution_count": 21,
   "metadata": {},
   "outputs": [
    {
     "data": {
      "image/png": "[encoded data removed]",
      "text/plain": [
       "<Figure size 432x288 with 1 Axes>"
      ]
     },
     "metadata": {},
     "output_type": "display_data"
    },
    {
     "name": "stdout",
     "output_type": "stream",
     "text": [
      "Estimated coefficients (true, linear regression, RANSAC):\n",
      "82.1903908407869 [54.17236387] [82.08533159]\n"
     ]
    }
   ],
   "source": [
    "import numpy as np\n",
    "from matplotlib import pyplot as plt\n",
    "from sklearn.linear_model import LinearRegression, RANSACRegressor\n",
    "from sklearn import datasets\n",
    "\n",
    "def data_genetate_1D(n_samples = 1000, n_outliers = 50):\n",
    "    n_samples = 1000\n",
    "    n_outliers = 50\n",
    "\n",
    "    X, y, coef = datasets.make_regression(n_samples=n_samples, n_features=1,\n",
    "                                          n_informative=1, noise=10,\n",
    "                                          coef=True, random_state=0)9987101`\n",
    "    # Add outlier data\n",
    "    np.random.seed(0)\n",
    "    X[:n_outliers] = 3 + 0.5 * np.random.normal(size=(n_outliers, 1))\n",
    "    y[:n_outliers] = -3 + 10 * np.random.normal(size=n_outliers)\n",
    "    \n",
    "    return X, y, coef\n",
    "\n",
    "# 1. Data generation\n",
    "X, y, coef = data_genetate_1D(n_samples = 1000, n_outliers = 50)\n",
    "\n",
    "# 2.1. Fit using OLS\n",
    "lr = LinearRegression()\n",
    "lr.fit(X, y)\n",
    "\n",
    "# 2.2. Fit linear model with RANSAC algorithm\n",
    "ransac = RANSACRegressor(min_samples = 5)\n",
    "# residual_threshold:  is choosen as Median Absolute Deviation\n",
    "# max_trials: number of iterations\n",
    "# min_samples：X.shape[1] + 1\n",
    "\n",
    "ransac.fit(X, y)\n",
    "inlier_mask = ransac.inlier_mask_\n",
    "outlier_mask = np.logical_not(inlier_mask)\n",
    "\n",
    "# 3.1 Show inliners and outliers\n",
    "plt.scatter(X[inlier_mask], y[inlier_mask], color='yellowgreen', marker='.', label='Inliers')\n",
    "plt.scatter(X[outlier_mask], y[outlier_mask], color='gold', marker='.', label='Outliers')\n",
    "\n",
    "# 3.2 Show the predicted lines of OLS and RANSAC\n",
    "lw = 2\n",
    "line_X = np.arange(X.min(), X.max())[:, np.newaxis]\n",
    "line_y = lr.predict(line_X)\n",
    "line_y_ransac = ransac.predict(line_X)\n",
    "plt.plot(line_X, line_y, color='navy', linewidth=lw, label='OLS')\n",
    "plt.plot(line_X, line_y_ransac, color='cornflowerblue', linewidth=lw, label='RANSAC')\n",
    "\n",
    "plt.legend(loc='lower right')\n",
    "plt.xlabel(\"X\")\n",
    "plt.ylabel(\"y\")\n",
    "plt.show()\n",
    "\n",
    "# 4. Compare estimated coefficients\n",
    "print(\"Estimated coefficients (true, linear regression, RANSAC):\")\n",
    "print(coef, lr.coef_, ransac.estimator_.coef_)"
   ]
  },
  {
   "cell_type": "markdown",
   "metadata": {},
   "source": [
    "### 4.2.2. Theil-Sen Regression\n",
    "1. Take all possible pairs of samples, and calculate a list of slopes\n",
    "2. The median m of the slopes is the final slope"
   ]
  },
  {
   "cell_type": "code",
   "execution_count": 25,
   "metadata": {},
   "outputs": [
    {
     "data": {
      "image/png": "[encoded data removed]",
      "text/plain": [
       "<Figure size 432x288 with 1 Axes>"
      ]
     },
     "metadata": {},
     "output_type": "display_data"
    },
    {
     "name": "stdout",
     "output_type": "stream",
     "text": [
      "Estimated coefficients (true, linear regression, Theil-Sen):\n",
      "82.1903908407869 [54.17236387] [80.79099189]\n"
     ]
    }
   ],
   "source": [
    "import numpy as np\n",
    "from matplotlib import pyplot as plt\n",
    "from sklearn.linear_model import LinearRegression, TheilSenRegressor\n",
    "from sklearn import datasets\n",
    "\n",
    "# 2.2. Fit linear model with RANSAC algorithm\n",
    "thsen = TheilSenRegressor()\n",
    "# residual_threshold:  is choosen as Median Absolute Deviation\n",
    "# max_trials: number of iterations\n",
    "# min_samples：X.shape[1] + 1\n",
    "\n",
    "thsen.fit(X, y)\n",
    "\n",
    "# 3.1 Show inliners and outliers\n",
    "plt.scatter(X[inlier_mask], y[inlier_mask], color='yellowgreen', marker='.', label='Inliers')\n",
    "plt.scatter(X[outlier_mask], y[outlier_mask], color='gold', marker='.', label='Outliers')\n",
    "\n",
    "# 3.2 Show the predicted lines of OLS and RANSAC\n",
    "lw = 2\n",
    "line_X = np.arange(X.min(), X.max())[:, np.newaxis]\n",
    "line_y = lr.predict(line_X)\n",
    "line_y_thsen = thsen.predict(line_X)\n",
    "plt.plot(line_X, line_y, color='navy', linewidth=lw, label='OLS')\n",
    "plt.plot(line_X, line_y_ransac, color='cornflowerblue', linewidth=lw, label='Theil-Sen')\n",
    "\n",
    "plt.legend(loc='lower right')\n",
    "plt.xlabel(\"X\")\n",
    "plt.ylabel(\"y\")\n",
    "plt.show()\n",
    "\n",
    "# 4. Compare estimated coefficients\n",
    "print(\"Estimated coefficients (true, linear regression, Theil-Sen):\")\n",
    "print(coef, lr.coef_, thsen.coef_)"
   ]
  },
  {
   "cell_type": "markdown",
   "metadata": {},
   "source": [
    "### 4.2.3. Huber Regression\n",
    "1. A sample is classified as an inlier if the absolute error of that sample is lesser than a certain threshold (*epsilon*). \n",
    "2. It does not ignore the outliers but gives a lesser weight to them.\n",
    "![huber loss](huber.png)"
   ]
  },
  {
   "cell_type": "code",
   "execution_count": 1,
   "metadata": {},
   "outputs": [
    {
     "ename": "NameError",
     "evalue": "name 'X' is not defined",
     "output_type": "error",
     "traceback": [
      "\u001b[1;31m---------------------------------------------------------------------------\u001b[0m",
      "\u001b[1;31mNameError\u001b[0m                                 Traceback (most recent call last)",
      "\u001b[1;32m<ipython-input-1-e3cfe181f2b6>\u001b[0m in \u001b[0;36m<module>\u001b[1;34m\u001b[0m\n\u001b[0;32m     10\u001b[0m \u001b[1;31m# min_samples：X.shape[1] + 1\u001b[0m\u001b[1;33m\u001b[0m\u001b[1;33m\u001b[0m\u001b[1;33m\u001b[0m\u001b[0m\n\u001b[0;32m     11\u001b[0m \u001b[1;33m\u001b[0m\u001b[0m\n\u001b[1;32m---> 12\u001b[1;33m \u001b[0mhuber\u001b[0m\u001b[1;33m.\u001b[0m\u001b[0mfit\u001b[0m\u001b[1;33m(\u001b[0m\u001b[0mX\u001b[0m\u001b[1;33m,\u001b[0m \u001b[0my\u001b[0m\u001b[1;33m)\u001b[0m\u001b[1;33m\u001b[0m\u001b[1;33m\u001b[0m\u001b[0m\n\u001b[0m\u001b[0;32m     13\u001b[0m \u001b[1;33m\u001b[0m\u001b[0m\n\u001b[0;32m     14\u001b[0m \u001b[1;31m# 3.1 Show inliners and outliers\u001b[0m\u001b[1;33m\u001b[0m\u001b[1;33m\u001b[0m\u001b[1;33m\u001b[0m\u001b[0m\n",
      "\u001b[1;31mNameError\u001b[0m: name 'X' is not defined"
     ]
    }
   ],
   "source": [
    "import numpy as np\n",
    "from matplotlib import pyplot as plt\n",
    "from sklearn.linear_model import HuberRegressor\n",
    "from sklearn import datasets\n",
    "\n",
    "# 2.2. Fit linear model with huber algorithm\n",
    "huber = HuberRegressor(alpha=.1, max_iter=100, epsilon=1)\n",
    "# residual_threshold:  is choosen as Median Absolute Deviation\n",
    "# max_trials: number of iterations\n",
    "# min_samples：X.shape[1] + 1\n",
    "\n",
    "huber.fit(X, y)\n",
    "\n",
    "# 3.1 Show inliners and outliers\n",
    "plt.scatter(X[inlier_mask], y[inlier_mask], color='yellowgreen', marker='.', label='Inliers')\n",
    "plt.scatter(X[outlier_mask], y[outlier_mask], color='gold', marker='.', label='Outliers')\n",
    "\n",
    "# 3.2 Show the predicted lines of OLS and RANSAC\n",
    "lw = 2\n",
    "line_y_huber = huber.predict(line_X)\n",
    "plt.plot(line_X, line_y, color='navy', linewidth=lw, label='OLS')\n",
    "plt.plot(line_X, line_y_huber, color='cornflowerblue', linewidth=lw, label='Huber')\n",
    "\n",
    "plt.legend(loc='lower right')\n",
    "plt.xlabel(\"X\")\n",
    "plt.ylabel(\"y\")\n",
    "plt.show()\n",
    "\n",
    "# 4. Compare estimated coefficients\n",
    "print(\"Estimated coefficients (true, linear regression, Huber):\")\n",
    "print(coef, lr.coef_, huber.coef_)"
   ]
  }
 ],
 "metadata": {
  "kernelspec": {
   "display_name": "Python 3 (ipykernel)",
   "language": "python",
   "name": "python3"
  },
  "language_info": {
   "codemirror_mode": {
    "name": "ipython",
    "version": 3
   },
   "file_extension": ".py",
   "mimetype": "text/x-python",
   "name": "python",
   "nbconvert_exporter": "python",
   "pygments_lexer": "ipython3",
   "version": "3.9.7"
  }
 },
 "nbformat": 4,
 "nbformat_minor": 2
}
