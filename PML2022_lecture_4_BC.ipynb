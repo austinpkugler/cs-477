{
 "cells": [
  {
   "cell_type": "markdown",
   "metadata": {},
   "source": [
    "# Lecture 4: Statements\n",
    "\n",
    "We have learned data types and stuctures to represent data in Python. In this lecture, we are going to learn *statements* and combine them to construct *procedures* to solve complicated tasks.\n",
    "\n",
    "## Agenda\n",
    "   - [Statements introduction](#section1)\n",
    "   \n",
    "   - [if test](#section2)\n",
    "   \n",
    "   - [while loop](#section31)\n",
    "      \n",
    "   - [for loop](#section32)\n",
    "      \n",
    "   - [An example and practice](#section4)"
   ]
  },
  {
   "cell_type": "markdown",
   "metadata": {},
   "source": [
    "### Statements Introduction<a id = \"section1\"/>\n",
    "\n",
    "> Statements are the things we write to tell Python what our programs should do.\n",
    "\n",
    "The role of Python statement (conceptual hierarchy):\n",
    "\n",
    "    1. Programs are composed of modules(files).\n",
    "    \n",
    "    2. Modules contains statements.\n",
    "    \n",
    "    3. *Statements* contain expression\n",
    "    \n",
    "    4. Expression create and process objects.\n",
    "\n",
    "Each statement in Python has its own specific purpose and its own specific syntax.\n",
    "\n",
    "    - import, from: module and attribute access\n",
    "    \n",
    "    - if/elif/else: selecting actions\n",
    "    \n",
    "    - for, while, break, continue: loops\n",
    "    \n",
    "    - def, return, class, yield: define functions and classes\n",
    "    \n",
    "    - global, nonlocal: namespaces and scopes\n",
    "    \n",
    "    - try/except: catching exceptions/errors\n",
    "    \n",
    "    - with/as: context managers\n",
    "\n"
   ]
  },
  {
   "cell_type": "markdown",
   "metadata": {},
   "source": [
    "#### Basic Python statement Syntax\n",
    "```c++\n",
    "// C++ example of the 'if' statement\n",
    "if(a > b){\n",
    "    x = 1;\n",
    "    y = 2;\n",
    "}\n",
    "```\n",
    "\n",
    "```python\n",
    "# python example of the 'if' statement\n",
    "if a > b:\n",
    "    x = 1\n",
    "    y = 2\n",
    "```\n",
    "\n",
    "What Python adds\n",
    "    - All Python compound statements' header line terminated in a colon character(:). *Forgeting this is the most common coding mistake in beginners.* \n",
    "    \n",
    "What Python removes\n",
    "    - Parentheses are optional.\n",
    "    - No need the semicolon(;) to terminate a line.\n",
    "    - No need {} to define the begin and end of a block.End of indentation is end of block."
   ]
  },
  {
   "cell_type": "markdown",
   "metadata": {},
   "source": [
    "#### Assignments statements\n",
    "> We use assignment statements to assign objects to names, e.g., a = 10. In the basic form, we write the target on the left of an equals sign, and the object on the right.\n",
    "\n",
    "Assignments create references/new variables and will not copy data.\n",
    "```python\n",
    "    L = [1, 2, 3]\n",
    "    L1 = L\n",
    "```\n"
   ]
  },
  {
   "cell_type": "code",
   "execution_count": null,
   "metadata": {},
   "outputs": [],
   "source": [
    "#baisc form\n",
    "a = 1\n",
    "b = 2.5\n",
    "c = 'string'"
   ]
  },
  {
   "cell_type": "code",
   "execution_count": null,
   "metadata": {},
   "outputs": [],
   "source": [
    "#multi-target assignment\n",
    "a = b = c = 1"
   ]
  },
  {
   "cell_type": "code",
   "execution_count": 1,
   "metadata": {},
   "outputs": [],
   "source": [
    "# augmented assignment\n",
    "a = 1\n",
    "a = a + 1\n",
    "a += 1"
   ]
  },
  {
   "cell_type": "markdown",
   "metadata": {},
   "source": [
    "#### Expression statements\n",
    "Expression statements are commonly used in two situations\n",
    "- call functions or class methods (without return values)\n",
    "- print values at the prompt"
   ]
  },
  {
   "cell_type": "code",
   "execution_count": 2,
   "metadata": {},
   "outputs": [
    {
     "name": "stdout",
     "output_type": "stream",
     "text": [
      "hello python\n"
     ]
    }
   ],
   "source": [
    "x = 'hello'\n",
    "y = 'python'\n",
    "\n",
    "print(x, y) # print to current output terminal"
   ]
  },
  {
   "cell_type": "code",
   "execution_count": 3,
   "metadata": {},
   "outputs": [],
   "source": [
    "#print to file\n",
    "f = open('data.txt', 'w')\n"
   ]
  },
  {
   "cell_type": "markdown",
   "metadata": {},
   "source": [
    "### if Tests  <a id = \"section2\"/>\n",
    "\n",
    "In Python, `if` statements allow us to instruct the program to perform alternative actions, based on one or several tests. This provides for introducing logic in our codes, and it can be interpreted as \"if this case happens, then perform this action\".\n",
    "\n",
    "`if` is a ***compound statement,*** since it may contain other statements in its syntax. Also, the `if` statement is referred to as a ***conditional*** statement.\n",
    "\n",
    "The `if` statement takes the form an `if test`, followed by one or more optional `elif (else if) test`, and\n",
    "a final optional `else test`. Each of the tests has an associated block of nested statements, indented under a header line.\n",
    "\n",
    "The general form for `if` statements is:\n",
    "\n",
    "    if test1:\n",
    "        statements: perform action 1\n",
    "    elif test2:\n",
    "        statements: perform action 2\n",
    "    else: \n",
    "        statements: perform action 3\n",
    "        \n",
    "The above compound statement can be interpreted as: if the case in test 1 happens, perform action 1. Else, if the case in test 2 happens, perform some other action&mdash;action 2. Or else, if none of the above cases happen, perform action 3."
   ]
  },
  {
   "cell_type": "code",
   "execution_count": null,
   "metadata": {},
   "outputs": [],
   "source": [
    "# basic if\n",
    "x = 50\n",
    "\n",
    "if x > 100:\n",
    "    print('Large number')"
   ]
  },
  {
   "cell_type": "code",
   "execution_count": 4,
   "metadata": {},
   "outputs": [],
   "source": [
    "# if-else\n",
    "x = 100\n",
    "\n",
    "if x > 100:\n",
    "    print('Large number')\n",
    "elif x >= 50:\n",
    "    print('Medium number')\n",
    "else:\n",
    "    print('Small number')\n"
   ]
  },
  {
   "cell_type": "markdown",
   "metadata": {},
   "source": [
    "#### Exercise 1\n",
    "\n",
    "Write an `if-else` test that for a given number x prints whether it is an even or odd number. Hint: use the modulus operator `%` (if you are not familiar with it, perform an internet search)."
   ]
  },
  {
   "cell_type": "code",
   "execution_count": null,
   "metadata": {},
   "outputs": [],
   "source": [
    "if x % 2 == 0:\n",
    "    print('Even')\n",
    "else:\n",
    "    print('Odd')"
   ]
  },
  {
   "cell_type": "code",
   "execution_count": 5,
   "metadata": {},
   "outputs": [],
   "source": [
    "# if-elif-else\n"
   ]
  },
  {
   "cell_type": "markdown",
   "metadata": {},
   "source": [
    "#### Exercise 2\n",
    "\n",
    "Using `if-else` and the `input()` function, create a program that asks to enter a password, and if the password is 123456 it displays 'Welcome!' and if not it displays 'Access denied!'."
   ]
  },
  {
   "cell_type": "code",
   "execution_count": 2,
   "metadata": {},
   "outputs": [
    {
     "name": "stdout",
     "output_type": "stream",
     "text": [
      "123456\n",
      "Welcome!\n"
     ]
    }
   ],
   "source": [
    "password = input()\n",
    "if password == '123456':\n",
    "    print('Welcome!')\n",
    "else:\n",
    "    print('Access denied!')"
   ]
  },
  {
   "cell_type": "markdown",
   "metadata": {},
   "source": [
    "#### Boolean Operators to Make Complex Statements"
   ]
  },
  {
   "cell_type": "code",
   "execution_count": 3,
   "metadata": {},
   "outputs": [
    {
     "name": "stdout",
     "output_type": "stream",
     "text": [
      "In work force\n"
     ]
    }
   ],
   "source": [
    "# use age (16, 65) to check if one is in or outside the labor force\n",
    "age = 40\n",
    "if age >= 16 and age <= 65:\n",
    "    print('In work force')"
   ]
  },
  {
   "cell_type": "markdown",
   "metadata": {},
   "source": [
    "### For and While Loops  <a id = \"section3\"/>\n",
    "\n",
    "Structure of a Loop\n",
    "- Many algorithms require a programming language to *carry out a sequence of statements repeatedly*. The code within the loop is called the body of the loop.\n",
    "\n",
    "Three loop categories\n",
    "1. Count-controlled loop. Reating a loop a certain number of times. **Python does not have this kind of loop.**\n",
    "```C++\n",
    "// C++ example\n",
    "for (int i = 0; i < 5; i++) {\n",
    "  cout << i << \"\\n\";\n",
    "}\n",
    "```\n",
    "2. Condition-controlled loop. A loop will be repeated until a given condition changes. \n",
    "\n",
    "```python\n",
    "# Python example\n",
    "n = 100\n",
    "i = 1\n",
    "while i < n:\n",
    "    print(i)\n",
    "```\n",
    "\n",
    "3. Collection-controlled loop. It allows looping through the elements of a \"collection\", which can be an array, list or other ordered sequence.\n",
    "\n",
    "Python Loops\n",
    ">Python supports the condition-controlled (while)loop and collection-controlled (for) loop."
   ]
  },
  {
   "cell_type": "markdown",
   "metadata": {},
   "source": [
    "### While loop <a id = \"section31\"/>\n",
    "Basic while loop. \n",
    "- Before the body of the loop is executed, the condition is evaluated. If it evaluates to False, the while loop is finished.\n",
    "\n",
    "![basic while loop](while_basic_fc.png)\n",
    "\n",
    "\n",
    "- The general syntax of a basic while loop:\n",
    "```python\n",
    "while condition:\n",
    "    statement_1\n",
    "    ...\n",
    "    statement_n\n",
    "```"
   ]
  },
  {
   "cell_type": "code",
   "execution_count": 7,
   "metadata": {},
   "outputs": [
    {
     "name": "stdout",
     "output_type": "stream",
     "text": [
      "5050\n"
     ]
    }
   ],
   "source": [
    "#### A Small Example. \n",
    "#Calculate the sum of the numbers from 1 to 100\n",
    "total = 0\n",
    "for i in range(101):\n",
    "    total += i\n",
    "print(total)"
   ]
  },
  {
   "cell_type": "markdown",
   "metadata": {},
   "source": [
    "#### Break and continue statements in loops\n",
    "- Break is used to exit a for loop or a while loop (innermost loop)\n",
    "- Continue is used to skip the current block, and continues with the next iteration of the loop. "
   ]
  },
  {
   "cell_type": "code",
   "execution_count": 9,
   "metadata": {},
   "outputs": [
    {
     "name": "stdout",
     "output_type": "stream",
     "text": [
      "2550\n"
     ]
    }
   ],
   "source": [
    "# Calculate the sum of the even numbers from 1 to 100\n",
    "total = 0\n",
    "for i in range(0, 101, 2):\n",
    "    total += i\n",
    "print(total)"
   ]
  },
  {
   "cell_type": "markdown",
   "metadata": {},
   "source": [
    "#### Full while loop syntax\n",
    "![full while](while_full_fc.png)\n",
    "\n",
    "The general syntax of the full while loop\n",
    "```python\n",
    "while condition:\n",
    "    statement_1\n",
    "    ...\n",
    "    statement_n\n",
    "else: # the optional else part of while statement. The eles part will not excute if the loop was terminated using break.\n",
    "    statement_1\n",
    "    ...\n",
    "    statement_n \n",
    "```"
   ]
  },
  {
   "cell_type": "markdown",
   "metadata": {},
   "source": [
    "### For loop <a id = \"section32\"/>\n",
    "\n",
    "Python use iterator-based for loop\n",
    "- The for loop iterates over items of lists, tuple, string, the kyes of dicts and other iterable data structures. In each iteration step a loop variable is set to a value in a sequence or other data collection. \n",
    "\n",
    "\n",
    "Syntax of the *for* Loop\n",
    "\n",
    "- The Python for loop starts with the keyword \"for\" followed by an arbitrary variable name, which will hold the values of the following data sequence. The *else* block will be executed only if the loop hasn't been \"broken\" by a break statement.\n",
    "\n",
    "```python\n",
    "for item in item_sequence:\n",
    "    statement 1\n",
    "    ...\n",
    "    statement n\n",
    "else:\n",
    "    other statements\n",
    "```"
   ]
  },
  {
   "cell_type": "code",
   "execution_count": null,
   "metadata": {},
   "outputs": [],
   "source": [
    "languages = [\"Java\", \"C++\", \"Perl\", \"Python\"] \n",
    "\n",
    "for lang in languages:\n",
    "    print(lang)"
   ]
  },
  {
   "cell_type": "code",
   "execution_count": null,
   "metadata": {},
   "outputs": [],
   "source": [
    "#### Use the range() function to construct count-controlled-like for loop\n",
    "languages = [\"Java\", \"C++\", \"Perl\", \"Python\"] \n",
    "\n",
    "n = len(languages)\n",
    "#list(range(n))\n",
    "for i in range(n):\n",
    "    print(i, languages[i])"
   ]
  },
  {
   "cell_type": "code",
   "execution_count": null,
   "metadata": {},
   "outputs": [],
   "source": [
    "##### For loop with both item and item index\n",
    "languages = [\"Java\", \"C++\", \"Perl\", \"Python\"] \n",
    "#a = enumerate(languages)\n",
    "for i, lang in enumerate(languages):\n",
    "    print(i, lang)"
   ]
  },
  {
   "cell_type": "code",
   "execution_count": 7,
   "metadata": {},
   "outputs": [
    {
     "ename": "NameError",
     "evalue": "name 'languages' is not defined",
     "output_type": "error",
     "traceback": [
      "\u001b[1;31m---------------------------------------------------------------------------\u001b[0m",
      "\u001b[1;31mNameError\u001b[0m                                 Traceback (most recent call last)",
      "\u001b[1;32m<ipython-input-7-d38958a43d5b>\u001b[0m in \u001b[0;36m<module>\u001b[1;34m\u001b[0m\n\u001b[1;32m----> 1\u001b[1;33m \u001b[0mlist\u001b[0m\u001b[1;33m(\u001b[0m\u001b[0menumerate\u001b[0m\u001b[1;33m(\u001b[0m\u001b[0mlanguages\u001b[0m\u001b[1;33m)\u001b[0m\u001b[1;33m)\u001b[0m\u001b[1;33m\u001b[0m\u001b[1;33m\u001b[0m\u001b[0m\n\u001b[0m",
      "\u001b[1;31mNameError\u001b[0m: name 'languages' is not defined"
     ]
    }
   ],
   "source": [
    "list(enumerate(languages))"
   ]
  },
  {
   "cell_type": "markdown",
   "metadata": {},
   "source": [
    "### A realistic example to practice compund statements <a id = \"section4\"/>\n",
    "Supose we are asked to write a Python program to calculate square root of a number input by user. The program should be able to interact with user to allow user input from keyboard, and print our the results."
   ]
  },
  {
   "cell_type": "code",
   "execution_count": null,
   "metadata": {},
   "outputs": [],
   "source": [
    "import math\n",
    "\n",
    "while True:\n",
    "    n = input('Enter a numer:')\n",
    "    if n == 'stop':\n",
    "        break\n",
    "    print(math.sqrt(int(n)))\n",
    "else:\n",
    "    print('This is the else part.')"
   ]
  },
  {
   "cell_type": "code",
   "execution_count": null,
   "metadata": {},
   "outputs": [],
   "source": [
    "import math\n",
    "\n",
    "while True:\n",
    "    n = input('Enter a numer:')\n",
    "    if n == 'stop':\n",
    "        break\n",
    "    print(math.sqrt(int(n)))"
   ]
  },
  {
   "cell_type": "markdown",
   "metadata": {},
   "source": [
    "#### After-class exercise \n",
    "Loop through and print out all even numbers from the numbers list \n",
    "in the same order they are received. \n",
    "    - ignore numbers less than 100; and \n",
    "    - don't print any numbers that come after 710 in the sequence.\n",
    "\n",
    "    "
   ]
  },
  {
   "cell_type": "code",
   "execution_count": 9,
   "metadata": {},
   "outputs": [],
   "source": [
    "numbers = [129, 137, 543, 514, 985, 648, 896, 788, 955,2, 537, 585, 466,\n",
    "       246, 100, 285, 998, 228, 976, 355, 362, 701, 990, 165, 985, 669,\n",
    "       691, 596, 632, 902, 485, 897, 955,  15, 966, 681, 148, 925, 938,\n",
    "       789, 346, 603, 817, 166, 223, 623, 461, 849, 265, 368,  37, 479,\n",
    "       324, 741, 303, 762, 907, 316,  56, 636, 277, 968, 686, 914, 451,\n",
    "       642, 413, 472, 959, 933, 117, 138, 294, 319, 137, 582, 546, 865,\n",
    "       994,  98, 637, 710, 541, 178, 410, 911, 907, 175, 652, 761, 280,\n",
    "       607, 397, 478, 480, 224, 879, 702, 458, 962]\n",
    "\n",
    "\n"
   ]
  }
 ],
 "metadata": {
  "kernelspec": {
   "display_name": "Python 3 (ipykernel)",
   "language": "python",
   "name": "python3"
  },
  "language_info": {
   "codemirror_mode": {
    "name": "ipython",
    "version": 3
   },
   "file_extension": ".py",
   "mimetype": "text/x-python",
   "name": "python",
   "nbconvert_exporter": "python",
   "pygments_lexer": "ipython3",
   "version": "3.9.7"
  }
 },
 "nbformat": 4,
 "nbformat_minor": 2
}
