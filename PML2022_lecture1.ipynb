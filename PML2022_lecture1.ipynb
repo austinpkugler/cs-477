{
 "cells": [
  {
   "cell_type": "code",
   "execution_count": 4,
   "id": "a88fb3e2",
   "metadata": {},
   "outputs": [],
   "source": [
    "# Lecture 1: Python Programming Basics\n",
    "\n",
    "# show the zen of python\n",
    "import this"
   ]
  },
  {
   "cell_type": "markdown",
   "id": "8a620bb9",
   "metadata": {},
   "source": [
    "## Data structures\n",
    "1. list\n",
    "2. tuple\n",
    "3. dictionary\n",
    "4. set"
   ]
  },
  {
   "cell_type": "code",
   "execution_count": 8,
   "id": "af963d7d",
   "metadata": {},
   "outputs": [
    {
     "name": "stdout",
     "output_type": "stream",
     "text": [
      "[1, 2, 3]\n",
      "[1, 1.2, 'jake']\n",
      "[]\n"
     ]
    }
   ],
   "source": [
    "# create list\n",
    "l1 = [1, 2, 3]\n",
    "print(l1)\n",
    "l2 = [1, 1.2, 'jake']\n",
    "print(l2)\n",
    "l3 = [] # empty list\n",
    "print(l3)"
   ]
  },
  {
   "cell_type": "code",
   "execution_count": 10,
   "id": "6eb6f183",
   "metadata": {},
   "outputs": [
    {
     "name": "stdout",
     "output_type": "stream",
     "text": [
      "[2, 1, 2, 1, 2, 1, 2, 1, 2, 1, 2, 1, 2, 1, 2, 1, 2, 1, 2, 1]\n"
     ]
    }
   ],
   "source": [
    "#smart way to create a list\n",
    "l4 = [2, 1] * 10\n",
    "print(l4)"
   ]
  },
  {
   "cell_type": "code",
   "execution_count": 12,
   "id": "113fb059",
   "metadata": {},
   "outputs": [
    {
     "data": {
      "text/plain": [
       "20"
      ]
     },
     "execution_count": 12,
     "metadata": {},
     "output_type": "execute_result"
    }
   ],
   "source": [
    "len(l4)"
   ]
  },
  {
   "cell_type": "code",
   "execution_count": 16,
   "id": "6a31c921",
   "metadata": {},
   "outputs": [
    {
     "name": "stdout",
     "output_type": "stream",
     "text": [
      "1 5 [2, 3]\n"
     ]
    }
   ],
   "source": [
    "# get access elements in a list\n",
    "l5= [1, 2, 3, 4, 5]\n",
    "# index of a list starts from 0\n",
    "print(l5[0], l5[-1], l5[1:3]) # index -1 points to the last element"
   ]
  },
  {
   "cell_type": "code",
   "execution_count": 19,
   "id": "00a8120c",
   "metadata": {},
   "outputs": [
    {
     "name": "stdout",
     "output_type": "stream",
     "text": [
      "[1, 2, 3]\n",
      "[1, 2, 3, 4, 5]\n",
      "[1, 2, 3, 4, 5, 7, 8]\n",
      "[1, 2, 3, 4, 5, 7, 8, 10]\n"
     ]
    }
   ],
   "source": [
    "# list concatenation\n",
    "x = [1,2,3]\n",
    "print(x)\n",
    "x.extend([4,5])\n",
    "print(x)\n",
    "\n",
    "# list addition\n",
    "y = x + [7, 8]\n",
    "print(y)\n",
    "\n",
    "# append one element\n",
    "y.append(10)\n",
    "print(y)"
   ]
  },
  {
   "cell_type": "code",
   "execution_count": 20,
   "id": "a4a9658b",
   "metadata": {},
   "outputs": [
    {
     "data": {
      "text/plain": [
       "8"
      ]
     },
     "execution_count": 20,
     "metadata": {},
     "output_type": "execute_result"
    }
   ],
   "source": [
    "len(y)"
   ]
  },
  {
   "cell_type": "code",
   "execution_count": 21,
   "id": "e056177f",
   "metadata": {},
   "outputs": [
    {
     "data": {
      "text/plain": [
       "40"
      ]
     },
     "execution_count": 21,
     "metadata": {},
     "output_type": "execute_result"
    }
   ],
   "source": [
    "sum(y)"
   ]
  },
  {
   "cell_type": "markdown",
   "id": "78eb46eb",
   "metadata": {},
   "source": [
    "## List is not efficient in Python. We use Numpy array instead."
   ]
  },
  {
   "cell_type": "code",
   "execution_count": 22,
   "id": "c3e4dc54",
   "metadata": {},
   "outputs": [],
   "source": [
    "import numpy as np\n",
    "np.__"
   ]
  }
 ],
 "metadata": {
  "kernelspec": {
   "display_name": "Python 3",
   "language": "python",
   "name": "python3"
  },
  "language_info": {
   "codemirror_mode": {
    "name": "ipython",
    "version": 3
   },
   "file_extension": ".py",
   "mimetype": "text/x-python",
   "name": "python",
   "nbconvert_exporter": "python",
   "pygments_lexer": "ipython3",
   "version": "3.8.8"
  }
 },
 "nbformat": 4,
 "nbformat_minor": 5
}
