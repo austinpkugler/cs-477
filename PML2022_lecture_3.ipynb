{
 "cells": [
  {
   "cell_type": "code",
   "execution_count": 6,
   "id": "0fe37e58",
   "metadata": {},
   "outputs": [
    {
     "name": "stdout",
     "output_type": "stream",
     "text": [
      "(1,)\n",
      "<class 'tuple'>\n",
      "1\n"
     ]
    }
   ],
   "source": [
    "# Lists vs. tuples:\n",
    "# Lists are mutable and variable length\n",
    "# Tuples are immutable and fixed length\n",
    "\n",
    "# Defining tuple of length 1\n",
    "tup = (1,)\n",
    "print(tup)\n",
    "print(type(tup))\n",
    "print(len(tup))\n",
    "\n",
    "# Defining empty tuple\n",
    "tup = ()"
   ]
  },
  {
   "cell_type": "code",
   "execution_count": 13,
   "id": "4916a054",
   "metadata": {},
   "outputs": [
    {
     "name": "stdout",
     "output_type": "stream",
     "text": [
      "[['1000025', '5', '1', '1', '1', '2', '1', '3', '1', '1', '2'], ['1002945', '5', '4', '4', '5', '7', '10', '3', '2', '1', '2'], ['1015425', '3', '1', '1', '1', '2', '2', '3', '1', '1', '2'], ['1016277', '6', '8', '8', '1', '3', '4', '3', '7', '1', '2'], ['1017023', '4', '1', '1', '3', '2', '1', '3', '1', '1', '2'], ['1017122', '8', '10', '10', '8', '7', '10', '9', '7', '1', '4'], ['1018099', '1', '1', '1', '1', '2', '10', '3', '1', '1', '2'], ['1018561', '2', '1', '2', '1', '2', '1', '3', '1', '1', '2'], ['1033078', '2', '1', '1', '1', '2', '1', '1', '1', '5', '2'], ['1033078', '4', '2', '1', '1', '2', '1', '2', '1', '1', '2']]\n"
     ]
    }
   ],
   "source": [
    "# Read file data into list\n",
    "import csv\n",
    "\n",
    "with open('breast-cancer-wisconsin.data') as file:\n",
    "    reader = csv.reader(file)\n",
    "    data = list(reader)\n",
    "    \n",
    "print(data[:10])"
   ]
  },
  {
   "cell_type": "code",
   "execution_count": 18,
   "id": "b502d2fb",
   "metadata": {},
   "outputs": [
    {
     "name": "stdout",
     "output_type": "stream",
     "text": [
      "[[1000025, 1000025, 1000025, 1000025, 1000025, 1000025, 1000025, 1000025, 1000025, 1000025, 1000025], [1002945, 1002945, 1002945, 1002945, 1002945, 1002945, 1002945, 1002945, 1002945, 1002945, 1002945], [1015425, 1015425, 1015425, 1015425, 1015425, 1015425, 1015425, 1015425, 1015425, 1015425, 1015425], [1016277, 1016277, 1016277, 1016277, 1016277, 1016277, 1016277, 1016277, 1016277, 1016277, 1016277], [1017023, 1017023, 1017023, 1017023, 1017023, 1017023, 1017023, 1017023, 1017023, 1017023, 1017023], [1017122, 1017122, 1017122, 1017122, 1017122, 1017122, 1017122, 1017122, 1017122, 1017122, 1017122], [1018099, 1018099, 1018099, 1018099, 1018099, 1018099, 1018099, 1018099, 1018099, 1018099, 1018099], [1018561, 1018561, 1018561, 1018561, 1018561, 1018561, 1018561, 1018561, 1018561, 1018561, 1018561], [1033078, 1033078, 1033078, 1033078, 1033078, 1033078, 1033078, 1033078, 1033078, 1033078, 1033078], [1033078, 1033078, 1033078, 1033078, 1033078, 1033078, 1033078, 1033078, 1033078, 1033078, 1033078]]\n"
     ]
    }
   ],
   "source": [
    "for i, row in enumerate(data):\n",
    "    for j, datapoint in enumerate(row):\n",
    "        try:\n",
    "            data[i][j] = int(datapoint)\n",
    "        except:\n",
    "            pass\n",
    "        \n",
    "print(data[:10])"
   ]
  }
 ],
 "metadata": {
  "kernelspec": {
   "display_name": "Python 3 (ipykernel)",
   "language": "python",
   "name": "python3"
  },
  "language_info": {
   "codemirror_mode": {
    "name": "ipython",
    "version": 3
   },
   "file_extension": ".py",
   "mimetype": "text/x-python",
   "name": "python",
   "nbconvert_exporter": "python",
   "pygments_lexer": "ipython3",
   "version": "3.9.7"
  }
 },
 "nbformat": 4,
 "nbformat_minor": 5
}
