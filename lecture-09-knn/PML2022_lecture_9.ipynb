{
 "cells": [
  {
   "cell_type": "markdown",
   "metadata": {},
   "source": [
    "# Lecture 9:  A simple machine learning algorithm\n",
    "\n",
    "## K nearest neighbors (KNN) algorithm fundamentals, implementation and evaluation\n",
    "\n",
    "### Agenda\n",
    "\n",
    "1. Main idea\n",
    "2. Implementation\n",
    "3. Parameter(K) selection and the query of nearest neighbors\n",
    "4. Disadvantages\n",
    "5. Result evaluation: confusion matrix\n",
    "6. Use KNN in sklearn"
   ]
  },
  {
   "cell_type": "markdown",
   "metadata": {},
   "source": [
    "### 1. KNN main idea\n",
    "1. A type of instance-based learning: store instances of training data rather than learn a internal model\n",
    "2. Predict the label/attribution of new data by using the **K nearest data points** in the training set\n",
    "2. **K** can be a user-defined constant (k-nearest neighbor learning), or vary based on the local density of points\n",
    "3. Standard Euclidean distance is the most common distance metric used in KNN\n",
    "\n",
    "![KNN](KNN.png)   "
   ]
  },
  {
   "cell_type": "markdown",
   "metadata": {},
   "source": [
    "## 2. Implementation\n",
    "    \n",
    "1. Data preparation\n",
    "    1. Load data: `ds.load_iris()`\n",
    "    2. Prepare the training set and test set: `train_test_split(X, y, test_size = 0.3)`\n",
    "    \n",
    "2. Model training `fit()`\n",
    "    1. No explicit training step in KNN\n",
    "    2. The training phase of KNN is to load the feature vectors and class labels of the training samples\n",
    "    \n",
    "3. Prediction and evaluation `predict()`\n",
    "    1. Find k neighbors for a data sample\n",
    "    2. vote to determine the class label\n",
    "    \n",
    "4. Model persistance `pickle.dump()` and `pickle.load()`\n",
    "    1. No explicit model trained\n",
    "    2. The persistance step is to store the training samples"
   ]
  },
  {
   "cell_type": "code",
   "execution_count": 7,
   "metadata": {},
   "outputs": [
    {
     "name": "stdout",
     "output_type": "stream",
     "text": [
      "1.7320508075688772\n"
     ]
    }
   ],
   "source": [
    "import numpy as np\n",
    "\n",
    "# two feature vectors\n",
    "x = np.array([1, 0, 0])\n",
    "y = np.array([0, 1, 1])\n",
    "# calculate the euclidean distance\n",
    "# sqrt((x1 - y1)^2) + ... + (xn-yn)^2)\n",
    "d = np.sqrt(np.sum((x - y) ** 2))\n",
    "print(d)"
   ]
  },
  {
   "cell_type": "code",
   "execution_count": 26,
   "metadata": {
    "scrolled": true
   },
   "outputs": [
    {
     "name": "stdout",
     "output_type": "stream",
     "text": [
      "(150, 4) (150,)\n",
      "(120, 4) (120,) (30, 4) (30,)\n"
     ]
    }
   ],
   "source": [
    "import numpy as np\n",
    "from sklearn import datasets as ds\n",
    "from sklearn.model_selection import train_test_split\n",
    "\n",
    "class MyKNN:\n",
    "    '''My implementation of the KNN algorithm based on euclidean distance.\n",
    "    '''\n",
    "    \n",
    "    def __init__(self, k = 5):\n",
    "        ''' only need to initialize KNN\n",
    "        \n",
    "            input:\n",
    "                k: the number of nearest neighbors to search\n",
    "        '''\n",
    "        self.K = k\n",
    "        \n",
    "    def fit(self, X_train, y_train):\n",
    "        '''The training phase of KNN is to load the feature vectors and class labels of the training samples\n",
    "        '''\n",
    "        self.X_train = X_train\n",
    "        self.y_train = y_train\n",
    "   \n",
    "    def predict(self, X):\n",
    "        ''' Find k neighbors for a data sample, and vote to determine the class label\n",
    "            \n",
    "            input:\n",
    "                X: input feature vectors \n",
    "                \n",
    "            return:\n",
    "                pred: predictions for X\n",
    "        '''\n",
    "        \n",
    "        n = X.shape[0]\n",
    "        pred = np.zeros(n, dtype = int)\n",
    "        \n",
    "        for i in range(n): # 0, ..., n-1\n",
    "            nns = self.findKNgbs(X[i, :]) # nns, indices of K nearest neighbors\n",
    "            labels = self.y_train[nns] # class labels\n",
    "            \n",
    "            # vote to choose the label with more counts (ex: k=5 choose the label with 3+)\n",
    "            cnts = np.bincount(labels) # voting by counting labels in each category\n",
    "            pred[i] = np.argmax(cnts) # use the label with the max counts as the predicted label\n",
    "        \n",
    "        return pred \n",
    "\n",
    "    def findKNgbs(self, x):\n",
    "        '''find neighbors using euclidean distance. Euclidean distance between x1 and x2 is squrt((x1-x2)^2)\n",
    "            \n",
    "            input:\n",
    "                x: a single data sample(1*4)\n",
    "                \n",
    "            return:\n",
    "                the k indices for the k nearest neighbors of x\n",
    "        '''\n",
    "        distances = np.sqrt(np.sum((self.X_train - x) ** 2, axis=1)) # dimensionality is n x 1\n",
    "        indices = np.argsort(distances) # indices of sorted array\n",
    "        return indices[:self.K]\n",
    "\n",
    "    def errRate(self, real, pred, precison = 2):\n",
    "        err = 0\n",
    "        n = real.shape[0]\n",
    "        err = np.sum(real != pred)\n",
    "        return round(err/n, precison)\n",
    "\n",
    "\n",
    "#1. data preparation\n",
    "iris = ds.load_iris()\n",
    "#dir(iris)\n",
    "X = iris['data']\n",
    "y = iris['target']\n",
    "print(X.shape, y.shape)\n",
    "X_train, X_test, y_train, y_test = train_test_split(X, y, test_size = 0.2, random_state = 0)\n",
    "print(X_train.shape, y_train.shape, X_test.shape, y_test.shape)"
   ]
  },
  {
   "cell_type": "code",
   "execution_count": 28,
   "metadata": {
    "scrolled": true
   },
   "outputs": [
    {
     "name": "stdout",
     "output_type": "stream",
     "text": [
      "training error rate: 0.05\n",
      "test error rate: 0.03\n"
     ]
    }
   ],
   "source": [
    "# 2. model training\n",
    "knn = MyKNN(k=5)\n",
    "knn.fit(X_train, y_train)\n",
    "\n",
    "# 3. prediction and evaluation\n",
    "# training error\n",
    "y_train_pred = knn.predict(X_train)\n",
    "train_err = knn.errRate(y_train, y_train_pred)\n",
    "print('training error rate:', train_err)\n",
    "# test error\n",
    "y_test_pred = knn.predict(X_test)\n",
    "test_err = knn.errRate(y_test, y_test_pred)\n",
    "print('test error rate:', test_err)"
   ]
  },
  {
   "cell_type": "code",
   "execution_count": 22,
   "metadata": {},
   "outputs": [],
   "source": [
    "import pickle\n",
    "# using pickle.dump() to save model\n",
    "with open('knn.pickle', 'wb') as file:\n",
    "    pickle.dump(knn, file)"
   ]
  },
  {
   "cell_type": "code",
   "execution_count": 7,
   "metadata": {},
   "outputs": [],
   "source": [
    "# using pickle.load() to save model\n",
    "with open('knn.pickle', 'rb') as file:\n",
    "    knn1 = pickle.load(file)"
   ]
  },
  {
   "cell_type": "markdown",
   "metadata": {},
   "source": [
    "## 3. Parameter(K) selection and the choice of nearest neighbors\n",
    "1. The best choice of K depends upon the data\n",
    "    1. small k make the algorithm sensitive to noise\n",
    "    2. large k reduces the effect of noise, but make boundaries between classes blurr\n",
    "    3. Search k: k = 1, 3, 5, 7, 9\n"
   ]
  },
  {
   "cell_type": "code",
   "execution_count": 30,
   "metadata": {},
   "outputs": [
    {
     "name": "stdout",
     "output_type": "stream",
     "text": [
      "Error rate on training set: 2.0%\n",
      "Error rate on test set: 3.0%\n",
      "0.004998683929443359 seconds\n"
     ]
    }
   ],
   "source": [
    "import time\n",
    "\n",
    "# 1. parameter selection\n",
    "knn2 = MyKNN(2)\n",
    "knn2.fit(X_train, y_train)\n",
    "train_pred = knn2.predict(X_train)\n",
    "print('Error rate on training set: {}%'.format(100*knn2.errRate(y_train, train_pred)))\n",
    "\n",
    "test_pred = knn2.predict(X_test)\n",
    "print('Error rate on test set: {}%'.format(100*knn2.errRate(y_test, test_pred)))\n",
    "\n",
    "\n",
    "# time\n",
    "start = time.time()\n",
    "train_pred = knn2.predict(X_train)\n",
    "end = time.time()\n",
    "print(end - start, 'seconds')\n"
   ]
  },
  {
   "cell_type": "markdown",
   "metadata": {},
   "source": [
    "## 4. Pros and Cons\n",
    "\n",
    "###  Pros\n",
    "1. It can be applied to both regression and classification problems\n",
    "2. Good for problems with very irregular dicision bnoundary\n",
    "\n",
    "### Cons    \n",
    "1. Compute the distance and sort all the training data can be very slow if there are a large number of training examples\n",
    "2. Every sample contributes equally --> citation-KNN (https://papers.nips.cc/paper/1346-a-framework-for-multiple-instance-learning.pdf)\n",
    "3. Sensitive to K\n",
    "4. Not robust to noise -->  implement learning based on the number of neighbors within a fixed radius r of each training poin"
   ]
  },
  {
   "cell_type": "markdown",
   "metadata": {},
   "source": [
    "## 5. Result evaluation: confusion matrix\n",
    "\n",
    "![confusion matrix](cfm.png)  \n",
    "\n",
    "```python\n",
    "from sklearn.metrics import confusion_matrix as cfm\n",
    "\n",
    "m = cfm(y_train, train_pred)\n",
    "print(m)\n",
    "\n",
    "```"
   ]
  },
  {
   "cell_type": "code",
   "execution_count": 12,
   "metadata": {
    "scrolled": true
   },
   "outputs": [],
   "source": [
    "from sklearn.metrics import confusion_matrix as cfm\n"
   ]
  },
  {
   "cell_type": "markdown",
   "metadata": {},
   "source": [
    "## 6. Use KNN in sklearn"
   ]
  },
  {
   "cell_type": "code",
   "execution_count": 15,
   "metadata": {},
   "outputs": [
    {
     "data": {
      "text/plain": [
       "KNeighborsClassifier(n_neighbors=3)"
      ]
     },
     "execution_count": 15,
     "metadata": {},
     "output_type": "execute_result"
    }
   ],
   "source": [
    "from sklearn.neighbors import KNeighborsClassifier\n",
    "\n",
    "ngh = KNeighborsClassifier(n_neighbors=3)\n",
    "ngh.fit(X_train, y_train) \n"
   ]
  }
 ],
 "metadata": {
  "kernelspec": {
   "display_name": "Python 3 (ipykernel)",
   "language": "python",
   "name": "python3"
  },
  "language_info": {
   "codemirror_mode": {
    "name": "ipython",
    "version": 3
   },
   "file_extension": ".py",
   "mimetype": "text/x-python",
   "name": "python",
   "nbconvert_exporter": "python",
   "pygments_lexer": "ipython3",
   "version": "3.9.7"
  }
 },
 "nbformat": 4,
 "nbformat_minor": 2
}
