{
 "cells": [
  {
   "cell_type": "code",
   "execution_count": 107,
   "id": "3d438e9b",
   "metadata": {},
   "outputs": [
    {
     "data": {
      "text/plain": [
       "'2.6.0'"
      ]
     },
     "execution_count": 107,
     "metadata": {},
     "output_type": "execute_result"
    }
   ],
   "source": [
    "import tensorflow as tf\n",
    "tf.__version__"
   ]
  },
  {
   "cell_type": "code",
   "execution_count": 108,
   "id": "3e962c76",
   "metadata": {
    "scrolled": false
   },
   "outputs": [],
   "source": [
    "from tensorflow import keras"
   ]
  },
  {
   "cell_type": "markdown",
   "id": "83586a05",
   "metadata": {},
   "source": [
    "1. load the dataset"
   ]
  },
  {
   "cell_type": "code",
   "execution_count": 109,
   "id": "481945b8",
   "metadata": {},
   "outputs": [
    {
     "name": "stdout",
     "output_type": "stream",
     "text": [
      "['DESCR', 'data', 'feature_names', 'filename', 'frame', 'target', 'target_names']\n",
      ".. _breast_cancer_dataset:\n",
      "\n",
      "Breast cancer wisconsin (diagnostic) dataset\n",
      "--------------------------------------------\n",
      "\n",
      "**Data Set Characteristics:**\n",
      "\n",
      "    :Number of Instances: 569\n",
      "\n",
      "    :Number of Attributes: 30 numeric, predictive attributes and the class\n",
      "\n",
      "    :Attribute Information:\n",
      "        - radius (mean of distances from center to points on the perimeter)\n",
      "        - texture (standard deviation of gray-scale values)\n",
      "        - perimeter\n",
      "        - area\n",
      "        - smoothness (local variation in radius lengths)\n",
      "        - compactness (perimeter^2 / area - 1.0)\n",
      "        - concavity (severity of concave portions of the contour)\n",
      "        - concave points (number of concave portions of the contour)\n",
      "        - symmetry\n",
      "        - fractal dimension (\"coastline approximation\" - 1)\n",
      "\n",
      "        The mean, standard error, and \"worst\" or largest (mean of the three\n",
      "        worst/largest values) of these features were computed for each image,\n",
      "        resulting in 30 features.  For instance, field 0 is Mean Radius, field\n",
      "        10 is Radius SE, field 20 is Worst Radius.\n",
      "\n",
      "        - class:\n",
      "                - WDBC-Malignant\n",
      "                - WDBC-Benign\n",
      "\n",
      "    :Summary Statistics:\n",
      "\n",
      "    ===================================== ====== ======\n",
      "                                           Min    Max\n",
      "    ===================================== ====== ======\n",
      "    radius (mean):                        6.981  28.11\n",
      "    texture (mean):                       9.71   39.28\n",
      "    perimeter (mean):                     43.79  188.5\n",
      "    area (mean):                          143.5  2501.0\n",
      "    smoothness (mean):                    0.053  0.163\n",
      "    compactness (mean):                   0.019  0.345\n",
      "    concavity (mean):                     0.0    0.427\n",
      "    concave points (mean):                0.0    0.201\n",
      "    symmetry (mean):                      0.106  0.304\n",
      "    fractal dimension (mean):             0.05   0.097\n",
      "    radius (standard error):              0.112  2.873\n",
      "    texture (standard error):             0.36   4.885\n",
      "    perimeter (standard error):           0.757  21.98\n",
      "    area (standard error):                6.802  542.2\n",
      "    smoothness (standard error):          0.002  0.031\n",
      "    compactness (standard error):         0.002  0.135\n",
      "    concavity (standard error):           0.0    0.396\n",
      "    concave points (standard error):      0.0    0.053\n",
      "    symmetry (standard error):            0.008  0.079\n",
      "    fractal dimension (standard error):   0.001  0.03\n",
      "    radius (worst):                       7.93   36.04\n",
      "    texture (worst):                      12.02  49.54\n",
      "    perimeter (worst):                    50.41  251.2\n",
      "    area (worst):                         185.2  4254.0\n",
      "    smoothness (worst):                   0.071  0.223\n",
      "    compactness (worst):                  0.027  1.058\n",
      "    concavity (worst):                    0.0    1.252\n",
      "    concave points (worst):               0.0    0.291\n",
      "    symmetry (worst):                     0.156  0.664\n",
      "    fractal dimension (worst):            0.055  0.208\n",
      "    ===================================== ====== ======\n",
      "\n",
      "    :Missing Attribute Values: None\n",
      "\n",
      "    :Class Distribution: 212 - Malignant, 357 - Benign\n",
      "\n",
      "    :Creator:  Dr. William H. Wolberg, W. Nick Street, Olvi L. Mangasarian\n",
      "\n",
      "    :Donor: Nick Street\n",
      "\n",
      "    :Date: November, 1995\n",
      "\n",
      "This is a copy of UCI ML Breast Cancer Wisconsin (Diagnostic) datasets.\n",
      "https://goo.gl/U2Uwz2\n",
      "\n",
      "Features are computed from a digitized image of a fine needle\n",
      "aspirate (FNA) of a breast mass.  They describe\n",
      "characteristics of the cell nuclei present in the image.\n",
      "\n",
      "Separating plane described above was obtained using\n",
      "Multisurface Method-Tree (MSM-T) [K. P. Bennett, \"Decision Tree\n",
      "Construction Via Linear Programming.\" Proceedings of the 4th\n",
      "Midwest Artificial Intelligence and Cognitive Science Society,\n",
      "pp. 97-101, 1992], a classification method which uses linear\n",
      "programming to construct a decision tree.  Relevant features\n",
      "were selected using an exhaustive search in the space of 1-4\n",
      "features and 1-3 separating planes.\n",
      "\n",
      "The actual linear program used to obtain the separating plane\n",
      "in the 3-dimensional space is that described in:\n",
      "[K. P. Bennett and O. L. Mangasarian: \"Robust Linear\n",
      "Programming Discrimination of Two Linearly Inseparable Sets\",\n",
      "Optimization Methods and Software 1, 1992, 23-34].\n",
      "\n",
      "This database is also available through the UW CS ftp server:\n",
      "\n",
      "ftp ftp.cs.wisc.edu\n",
      "cd math-prog/cpo-dataset/machine-learn/WDBC/\n",
      "\n",
      ".. topic:: References\n",
      "\n",
      "   - W.N. Street, W.H. Wolberg and O.L. Mangasarian. Nuclear feature extraction \n",
      "     for breast tumor diagnosis. IS&T/SPIE 1993 International Symposium on \n",
      "     Electronic Imaging: Science and Technology, volume 1905, pages 861-870,\n",
      "     San Jose, CA, 1993.\n",
      "   - O.L. Mangasarian, W.N. Street and W.H. Wolberg. Breast cancer diagnosis and \n",
      "     prognosis via linear programming. Operations Research, 43(4), pages 570-577, \n",
      "     July-August 1995.\n",
      "   - W.H. Wolberg, W.N. Street, and O.L. Mangasarian. Machine learning techniques\n",
      "     to diagnose breast cancer from fine-needle aspirates. Cancer Letters 77 (1994) \n",
      "     163-171.\n"
     ]
    }
   ],
   "source": [
    "import sklearn.datasets as ds\n",
    "breast_ds = ds.load_breast_cancer()\n",
    "print(dir(breast_ds))\n",
    "print(breast_ds['DESCR'])"
   ]
  },
  {
   "cell_type": "markdown",
   "id": "30f14d3e",
   "metadata": {},
   "source": [
    "2. prepare the training and test set"
   ]
  },
  {
   "cell_type": "code",
   "execution_count": 110,
   "id": "531ab171",
   "metadata": {},
   "outputs": [
    {
     "name": "stdout",
     "output_type": "stream",
     "text": [
      "size of the feature vectors: (569, 30)\n",
      "size of y: (569,)\n",
      "size of the training set: (455,)\n",
      "size of the test set: (114,)\n"
     ]
    }
   ],
   "source": [
    "from sklearn.model_selection import train_test_split\n",
    "\n",
    "X = breast_ds.data\n",
    "y = breast_ds.target\n",
    "print('size of the feature vectors:', X.shape)\n",
    "print('size of y:', y.shape)\n",
    "\n",
    "X_train, X_test, y_train, y_test = train_test_split(X, y, test_size = 0.2)\n",
    "print('size of the training set:', y_train.shape)\n",
    "print('size of the test set:', y_test.shape)"
   ]
  },
  {
   "cell_type": "markdown",
   "id": "73a43d5e",
   "metadata": {},
   "source": [
    "3. Create a NN model using keras Sequential model, which is a stack of layers\n",
    "4. Train the model\n",
    "\n",
    "    4.1 Argements of the fit function:\n",
    "        - epochs: test 100, 200, 300, ...\n",
    "        - batch_size: 4, 8, 16, 32, 64,\n",
    "        - validation_split: 0.2\n",
    "        - verbose: 0, 1\n",
    "\n",
    "    4.2 Return argument:\n",
    "        - h.history\n",
    "        \n",
    "##### NN design tips: \n",
    "- if get low training and validation accuray, this is because of underfitting and you can increase the number of hidden nodes\n",
    "- if get high training accuray and low validation accuracy, you can consider reduce the number of hidden nodes and apply early stopping strategy."
   ]
  },
  {
   "cell_type": "code",
   "execution_count": 121,
   "id": "0f287ad1",
   "metadata": {},
   "outputs": [
    {
     "name": "stdout",
     "output_type": "stream",
     "text": [
      "Model: \"sequential_34\"\n",
      "_________________________________________________________________\n",
      "Layer (type)                 Output Shape              Param #   \n",
      "=================================================================\n",
      "dense_102 (Dense)            (None, 5)                 155       \n",
      "_________________________________________________________________\n",
      "dense_103 (Dense)            (None, 5)                 30        \n",
      "_________________________________________________________________\n",
      "dense_104 (Dense)            (None, 2)                 12        \n",
      "=================================================================\n",
      "Total params: 197\n",
      "Trainable params: 197\n",
      "Non-trainable params: 0\n",
      "_________________________________________________________________\n",
      "Epoch 1/100\n",
      "23/23 [==============================] - 0s 7ms/step - loss: 197.0877 - accuracy: 0.6126 - val_loss: 129.8838 - val_accuracy: 0.7033\n",
      "Epoch 2/100\n",
      "23/23 [==============================] - 0s 2ms/step - loss: 136.6999 - accuracy: 0.6126 - val_loss: 83.7968 - val_accuracy: 0.7033\n",
      "Epoch 3/100\n",
      "23/23 [==============================] - 0s 2ms/step - loss: 77.4808 - accuracy: 0.6126 - val_loss: 34.0357 - val_accuracy: 0.7033\n",
      "Epoch 4/100\n",
      "23/23 [==============================] - 0s 2ms/step - loss: 18.2425 - accuracy: 0.4093 - val_loss: 14.5175 - val_accuracy: 0.2418\n",
      "Epoch 5/100\n",
      "23/23 [==============================] - 0s 2ms/step - loss: 8.3015 - accuracy: 0.3489 - val_loss: 4.8937 - val_accuracy: 0.3736\n",
      "Epoch 6/100\n",
      "23/23 [==============================] - 0s 2ms/step - loss: 3.3763 - accuracy: 0.5000 - val_loss: 3.0418 - val_accuracy: 0.4396\n",
      "Epoch 7/100\n",
      "23/23 [==============================] - 0s 2ms/step - loss: 1.8903 - accuracy: 0.6236 - val_loss: 1.9318 - val_accuracy: 0.5604\n",
      "Epoch 8/100\n",
      "23/23 [==============================] - 0s 2ms/step - loss: 1.2549 - accuracy: 0.7060 - val_loss: 1.5661 - val_accuracy: 0.5714\n",
      "Epoch 9/100\n",
      "23/23 [==============================] - 0s 1ms/step - loss: 1.0264 - accuracy: 0.7445 - val_loss: 1.2841 - val_accuracy: 0.5824\n",
      "Epoch 10/100\n",
      "23/23 [==============================] - 0s 2ms/step - loss: 0.9370 - accuracy: 0.7582 - val_loss: 1.2940 - val_accuracy: 0.5824\n",
      "Epoch 11/100\n",
      "23/23 [==============================] - 0s 2ms/step - loss: 0.8342 - accuracy: 0.7912 - val_loss: 1.5085 - val_accuracy: 0.5714\n",
      "Epoch 12/100\n",
      "23/23 [==============================] - 0s 2ms/step - loss: 0.7414 - accuracy: 0.7912 - val_loss: 0.9630 - val_accuracy: 0.6813\n",
      "Epoch 13/100\n",
      "23/23 [==============================] - 0s 2ms/step - loss: 0.6842 - accuracy: 0.8214 - val_loss: 0.8802 - val_accuracy: 0.7253\n",
      "Epoch 14/100\n",
      "23/23 [==============================] - 0s 2ms/step - loss: 0.6566 - accuracy: 0.8159 - val_loss: 0.9115 - val_accuracy: 0.7033\n",
      "Epoch 15/100\n",
      "23/23 [==============================] - 0s 2ms/step - loss: 0.6055 - accuracy: 0.8297 - val_loss: 0.7261 - val_accuracy: 0.8022\n",
      "Epoch 16/100\n",
      "23/23 [==============================] - 0s 2ms/step - loss: 0.6820 - accuracy: 0.8104 - val_loss: 0.6838 - val_accuracy: 0.8242\n",
      "Epoch 17/100\n",
      "23/23 [==============================] - 0s 2ms/step - loss: 0.5755 - accuracy: 0.8352 - val_loss: 0.7603 - val_accuracy: 0.7912\n",
      "Epoch 18/100\n",
      "23/23 [==============================] - 0s 2ms/step - loss: 0.5474 - accuracy: 0.8516 - val_loss: 0.7318 - val_accuracy: 0.8022\n",
      "Epoch 19/100\n",
      "23/23 [==============================] - 0s 2ms/step - loss: 0.5115 - accuracy: 0.8654 - val_loss: 0.8264 - val_accuracy: 0.7253\n",
      "Epoch 20/100\n",
      "23/23 [==============================] - 0s 2ms/step - loss: 0.5144 - accuracy: 0.8681 - val_loss: 0.6907 - val_accuracy: 0.8132\n",
      "Epoch 21/100\n",
      "23/23 [==============================] - 0s 2ms/step - loss: 0.4876 - accuracy: 0.8489 - val_loss: 0.5762 - val_accuracy: 0.8242\n",
      "Epoch 22/100\n",
      "23/23 [==============================] - 0s 2ms/step - loss: 0.5215 - accuracy: 0.8709 - val_loss: 0.5619 - val_accuracy: 0.8242\n",
      "Epoch 23/100\n",
      "23/23 [==============================] - 0s 2ms/step - loss: 0.4846 - accuracy: 0.8819 - val_loss: 0.5996 - val_accuracy: 0.8242\n",
      "Epoch 24/100\n",
      "23/23 [==============================] - 0s 2ms/step - loss: 0.4765 - accuracy: 0.8709 - val_loss: 0.6860 - val_accuracy: 0.8022\n",
      "Epoch 25/100\n",
      "23/23 [==============================] - 0s 2ms/step - loss: 0.4238 - accuracy: 0.8846 - val_loss: 0.6093 - val_accuracy: 0.8242\n",
      "Epoch 26/100\n",
      "23/23 [==============================] - 0s 2ms/step - loss: 0.4241 - accuracy: 0.8929 - val_loss: 0.8784 - val_accuracy: 0.7033\n",
      "Epoch 27/100\n",
      "23/23 [==============================] - 0s 2ms/step - loss: 0.4196 - accuracy: 0.8736 - val_loss: 0.9100 - val_accuracy: 0.6703\n",
      "Epoch 28/100\n",
      "23/23 [==============================] - 0s 2ms/step - loss: 0.4676 - accuracy: 0.8544 - val_loss: 0.9356 - val_accuracy: 0.6703\n",
      "Epoch 29/100\n",
      "23/23 [==============================] - 0s 2ms/step - loss: 0.4646 - accuracy: 0.8654 - val_loss: 0.6849 - val_accuracy: 0.8022\n",
      "Epoch 30/100\n",
      "23/23 [==============================] - 0s 2ms/step - loss: 0.3903 - accuracy: 0.8984 - val_loss: 0.6634 - val_accuracy: 0.8022\n",
      "Epoch 31/100\n",
      "23/23 [==============================] - 0s 2ms/step - loss: 0.3785 - accuracy: 0.9011 - val_loss: 0.6465 - val_accuracy: 0.8022\n",
      "Epoch 32/100\n",
      "23/23 [==============================] - 0s 2ms/step - loss: 0.3752 - accuracy: 0.8819 - val_loss: 0.4809 - val_accuracy: 0.8462\n",
      "Epoch 33/100\n",
      "23/23 [==============================] - 0s 2ms/step - loss: 0.3672 - accuracy: 0.9011 - val_loss: 0.7664 - val_accuracy: 0.7143\n",
      "Epoch 34/100\n",
      "23/23 [==============================] - 0s 2ms/step - loss: 0.3616 - accuracy: 0.9038 - val_loss: 0.5263 - val_accuracy: 0.8132\n",
      "Epoch 35/100\n",
      "23/23 [==============================] - 0s 2ms/step - loss: 0.3527 - accuracy: 0.8901 - val_loss: 0.4668 - val_accuracy: 0.8571\n",
      "Epoch 36/100\n",
      "23/23 [==============================] - 0s 2ms/step - loss: 0.3422 - accuracy: 0.9093 - val_loss: 0.5476 - val_accuracy: 0.8132\n",
      "Epoch 37/100\n",
      "23/23 [==============================] - 0s 2ms/step - loss: 0.3384 - accuracy: 0.9011 - val_loss: 0.4557 - val_accuracy: 0.8571\n",
      "Epoch 38/100\n",
      "23/23 [==============================] - 0s 2ms/step - loss: 0.3402 - accuracy: 0.9066 - val_loss: 0.5291 - val_accuracy: 0.8242\n",
      "Epoch 39/100\n",
      "23/23 [==============================] - 0s 2ms/step - loss: 0.4043 - accuracy: 0.8791 - val_loss: 0.7515 - val_accuracy: 0.7363\n",
      "Epoch 40/100\n",
      "23/23 [==============================] - 0s 2ms/step - loss: 0.3362 - accuracy: 0.9038 - val_loss: 0.4898 - val_accuracy: 0.8352\n",
      "Epoch 41/100\n",
      "23/23 [==============================] - 0s 2ms/step - loss: 0.3642 - accuracy: 0.8901 - val_loss: 0.5722 - val_accuracy: 0.8242\n",
      "Epoch 42/100\n",
      "23/23 [==============================] - 0s 2ms/step - loss: 0.3109 - accuracy: 0.9066 - val_loss: 0.4221 - val_accuracy: 0.8571\n",
      "Epoch 43/100\n",
      "23/23 [==============================] - 0s 2ms/step - loss: 0.3334 - accuracy: 0.8929 - val_loss: 0.4359 - val_accuracy: 0.8352\n",
      "Epoch 44/100\n",
      "23/23 [==============================] - 0s 2ms/step - loss: 0.3141 - accuracy: 0.8984 - val_loss: 0.5424 - val_accuracy: 0.8242\n",
      "Epoch 45/100\n",
      "23/23 [==============================] - 0s 2ms/step - loss: 0.3089 - accuracy: 0.9038 - val_loss: 0.4313 - val_accuracy: 0.8242\n",
      "Epoch 46/100\n",
      "23/23 [==============================] - 0s 2ms/step - loss: 0.3052 - accuracy: 0.9038 - val_loss: 0.4252 - val_accuracy: 0.8242\n",
      "Epoch 47/100\n",
      "23/23 [==============================] - 0s 2ms/step - loss: 0.3147 - accuracy: 0.8956 - val_loss: 0.5524 - val_accuracy: 0.8132\n",
      "Epoch 48/100\n",
      "23/23 [==============================] - 0s 2ms/step - loss: 0.3135 - accuracy: 0.8901 - val_loss: 0.3752 - val_accuracy: 0.8681\n",
      "Epoch 49/100\n",
      "23/23 [==============================] - 0s 2ms/step - loss: 0.3118 - accuracy: 0.8984 - val_loss: 0.3547 - val_accuracy: 0.8681\n",
      "Epoch 50/100\n",
      "23/23 [==============================] - 0s 2ms/step - loss: 0.3003 - accuracy: 0.9011 - val_loss: 0.3513 - val_accuracy: 0.8571\n",
      "Epoch 51/100\n",
      "23/23 [==============================] - 0s 2ms/step - loss: 0.3155 - accuracy: 0.9011 - val_loss: 0.3524 - val_accuracy: 0.8571\n",
      "Epoch 52/100\n",
      "23/23 [==============================] - 0s 2ms/step - loss: 0.2893 - accuracy: 0.9148 - val_loss: 0.4094 - val_accuracy: 0.8791\n",
      "Epoch 53/100\n"
     ]
    },
    {
     "name": "stdout",
     "output_type": "stream",
     "text": [
      "23/23 [==============================] - 0s 2ms/step - loss: 0.2888 - accuracy: 0.9093 - val_loss: 0.3507 - val_accuracy: 0.8681\n",
      "Epoch 54/100\n",
      "23/23 [==============================] - 0s 2ms/step - loss: 0.3306 - accuracy: 0.8929 - val_loss: 0.3586 - val_accuracy: 0.8681\n",
      "Epoch 55/100\n",
      "23/23 [==============================] - 0s 2ms/step - loss: 0.2810 - accuracy: 0.8956 - val_loss: 0.3352 - val_accuracy: 0.8681\n",
      "Epoch 56/100\n",
      "23/23 [==============================] - 0s 2ms/step - loss: 0.2681 - accuracy: 0.9093 - val_loss: 0.4837 - val_accuracy: 0.8242\n",
      "Epoch 57/100\n",
      "23/23 [==============================] - 0s 2ms/step - loss: 0.2727 - accuracy: 0.9011 - val_loss: 0.4324 - val_accuracy: 0.8132\n",
      "Epoch 58/100\n",
      "23/23 [==============================] - 0s 2ms/step - loss: 0.2793 - accuracy: 0.9093 - val_loss: 0.3698 - val_accuracy: 0.8571\n",
      "Epoch 59/100\n",
      "23/23 [==============================] - 0s 2ms/step - loss: 0.2690 - accuracy: 0.9203 - val_loss: 0.3143 - val_accuracy: 0.8791\n",
      "Epoch 60/100\n",
      "23/23 [==============================] - 0s 2ms/step - loss: 0.2941 - accuracy: 0.9038 - val_loss: 0.3211 - val_accuracy: 0.8901\n",
      "Epoch 61/100\n",
      "23/23 [==============================] - 0s 2ms/step - loss: 0.2671 - accuracy: 0.9066 - val_loss: 0.3045 - val_accuracy: 0.8681\n",
      "Epoch 62/100\n",
      "23/23 [==============================] - 0s 2ms/step - loss: 0.2632 - accuracy: 0.8956 - val_loss: 0.3024 - val_accuracy: 0.8791\n",
      "Epoch 63/100\n",
      "23/23 [==============================] - 0s 2ms/step - loss: 0.2780 - accuracy: 0.9011 - val_loss: 0.4600 - val_accuracy: 0.8242\n",
      "Epoch 64/100\n",
      "23/23 [==============================] - 0s 2ms/step - loss: 0.2761 - accuracy: 0.9066 - val_loss: 0.4352 - val_accuracy: 0.8352\n",
      "Epoch 65/100\n",
      "23/23 [==============================] - 0s 2ms/step - loss: 0.2547 - accuracy: 0.9176 - val_loss: 0.3784 - val_accuracy: 0.8571\n",
      "Epoch 66/100\n",
      "23/23 [==============================] - 0s 2ms/step - loss: 0.2505 - accuracy: 0.9066 - val_loss: 0.3652 - val_accuracy: 0.8571\n",
      "Epoch 67/100\n",
      "23/23 [==============================] - 0s 2ms/step - loss: 0.2482 - accuracy: 0.8984 - val_loss: 0.4726 - val_accuracy: 0.8132\n",
      "Epoch 68/100\n",
      "23/23 [==============================] - 0s 2ms/step - loss: 0.2703 - accuracy: 0.8984 - val_loss: 0.3759 - val_accuracy: 0.8462\n",
      "Epoch 69/100\n",
      "23/23 [==============================] - 0s 2ms/step - loss: 0.2617 - accuracy: 0.9066 - val_loss: 0.2996 - val_accuracy: 0.8791\n",
      "Epoch 70/100\n",
      "23/23 [==============================] - 0s 2ms/step - loss: 0.2616 - accuracy: 0.8956 - val_loss: 0.5790 - val_accuracy: 0.7912\n",
      "Epoch 71/100\n",
      "23/23 [==============================] - 0s 2ms/step - loss: 0.2437 - accuracy: 0.9038 - val_loss: 0.2772 - val_accuracy: 0.8901\n",
      "Epoch 72/100\n",
      "23/23 [==============================] - 0s 2ms/step - loss: 0.2308 - accuracy: 0.9176 - val_loss: 0.2727 - val_accuracy: 0.9011\n",
      "Epoch 73/100\n",
      "23/23 [==============================] - 0s 2ms/step - loss: 0.2352 - accuracy: 0.9203 - val_loss: 0.2733 - val_accuracy: 0.8901\n",
      "Epoch 74/100\n",
      "23/23 [==============================] - 0s 2ms/step - loss: 0.2579 - accuracy: 0.9066 - val_loss: 0.3501 - val_accuracy: 0.8462\n",
      "Epoch 75/100\n",
      "23/23 [==============================] - 0s 2ms/step - loss: 0.2245 - accuracy: 0.9148 - val_loss: 0.2670 - val_accuracy: 0.8901\n",
      "Epoch 76/100\n",
      "23/23 [==============================] - 0s 2ms/step - loss: 0.2321 - accuracy: 0.9231 - val_loss: 0.3372 - val_accuracy: 0.8462\n",
      "Epoch 77/100\n",
      "23/23 [==============================] - 0s 2ms/step - loss: 0.2220 - accuracy: 0.9258 - val_loss: 0.2858 - val_accuracy: 0.8791\n",
      "Epoch 78/100\n",
      "23/23 [==============================] - 0s 2ms/step - loss: 0.2279 - accuracy: 0.8956 - val_loss: 0.2576 - val_accuracy: 0.8901\n",
      "Epoch 79/100\n",
      "23/23 [==============================] - 0s 2ms/step - loss: 0.2267 - accuracy: 0.9313 - val_loss: 0.2518 - val_accuracy: 0.8901\n",
      "Epoch 80/100\n",
      "23/23 [==============================] - 0s 2ms/step - loss: 0.2653 - accuracy: 0.8984 - val_loss: 0.5325 - val_accuracy: 0.8022\n",
      "Epoch 81/100\n",
      "23/23 [==============================] - 0s 2ms/step - loss: 0.3313 - accuracy: 0.8901 - val_loss: 0.2649 - val_accuracy: 0.9011\n",
      "Epoch 82/100\n",
      "23/23 [==============================] - 0s 2ms/step - loss: 0.2269 - accuracy: 0.9093 - val_loss: 0.2744 - val_accuracy: 0.9011\n",
      "Epoch 83/100\n",
      "23/23 [==============================] - 0s 2ms/step - loss: 0.2160 - accuracy: 0.9231 - val_loss: 0.3654 - val_accuracy: 0.8571\n",
      "Epoch 84/100\n",
      "23/23 [==============================] - 0s 2ms/step - loss: 0.2621 - accuracy: 0.8956 - val_loss: 0.3398 - val_accuracy: 0.8901\n",
      "Epoch 85/100\n",
      "23/23 [==============================] - 0s 2ms/step - loss: 0.2541 - accuracy: 0.9066 - val_loss: 0.4093 - val_accuracy: 0.8352\n",
      "Epoch 86/100\n",
      "23/23 [==============================] - 0s 2ms/step - loss: 0.2316 - accuracy: 0.9176 - val_loss: 0.2372 - val_accuracy: 0.8901\n",
      "Epoch 87/100\n",
      "23/23 [==============================] - 0s 2ms/step - loss: 0.2062 - accuracy: 0.9176 - val_loss: 0.3451 - val_accuracy: 0.8571\n",
      "Epoch 88/100\n",
      "23/23 [==============================] - 0s 2ms/step - loss: 0.2590 - accuracy: 0.9066 - val_loss: 0.2551 - val_accuracy: 0.9011\n",
      "Epoch 89/100\n",
      "23/23 [==============================] - 0s 2ms/step - loss: 0.2590 - accuracy: 0.9038 - val_loss: 0.2984 - val_accuracy: 0.8791\n",
      "Epoch 90/100\n",
      "23/23 [==============================] - 0s 2ms/step - loss: 0.2851 - accuracy: 0.8901 - val_loss: 0.2282 - val_accuracy: 0.9011\n",
      "Epoch 91/100\n",
      "23/23 [==============================] - 0s 2ms/step - loss: 0.2198 - accuracy: 0.9176 - val_loss: 0.2273 - val_accuracy: 0.8901\n",
      "Epoch 92/100\n",
      "23/23 [==============================] - 0s 2ms/step - loss: 0.2020 - accuracy: 0.9258 - val_loss: 0.2556 - val_accuracy: 0.9121\n",
      "Epoch 93/100\n",
      "23/23 [==============================] - 0s 2ms/step - loss: 0.2239 - accuracy: 0.9203 - val_loss: 0.2650 - val_accuracy: 0.8901\n",
      "Epoch 94/100\n",
      "23/23 [==============================] - 0s 2ms/step - loss: 0.1938 - accuracy: 0.9258 - val_loss: 0.2328 - val_accuracy: 0.9011\n",
      "Epoch 95/100\n",
      "23/23 [==============================] - 0s 2ms/step - loss: 0.2595 - accuracy: 0.9093 - val_loss: 0.2704 - val_accuracy: 0.8901\n",
      "Epoch 96/100\n",
      "23/23 [==============================] - 0s 2ms/step - loss: 0.2002 - accuracy: 0.9231 - val_loss: 0.2881 - val_accuracy: 0.8791\n",
      "Epoch 97/100\n",
      "23/23 [==============================] - 0s 2ms/step - loss: 0.1966 - accuracy: 0.9203 - val_loss: 0.2320 - val_accuracy: 0.9011\n",
      "Epoch 98/100\n",
      "23/23 [==============================] - 0s 2ms/step - loss: 0.1975 - accuracy: 0.9148 - val_loss: 0.2270 - val_accuracy: 0.9011\n",
      "Epoch 99/100\n",
      "23/23 [==============================] - 0s 2ms/step - loss: 0.2001 - accuracy: 0.9176 - val_loss: 0.2151 - val_accuracy: 0.9121\n",
      "Epoch 100/100\n",
      "23/23 [==============================] - 0s 2ms/step - loss: 0.2004 - accuracy: 0.9148 - val_loss: 0.2383 - val_accuracy: 0.8901\n",
      "training acc is 0.9208791208791208\n",
      "test acc is 0.9736842105263158\n"
     ]
    }
   ],
   "source": [
    "### 4.1 create and train NNs\n",
    "\n",
    "# practice different configurations of the network, and \n",
    "# check the differences in the results\n",
    "## 1): 5 hidden units for h1, and 5 units for h2  \n",
    "## 2): 10 hidden units for h1, and 5 units for h2 \n",
    "## 3): 30 hidden units for h1, and 10 units for h2 \n",
    "\n",
    "model2 = keras.models.Sequential() # an empty model\n",
    "model2.add(keras.layers.Dense(units =5,     \n",
    "                              input_dim=30,# \n",
    "                              activation = 'relu')) #h 1\n",
    "\n",
    "model2.add(keras.layers.Dense(units = 5,     \n",
    "                              activation = 'relu'))# h 2\n",
    "\n",
    "model2.add(keras.layers.Dense(units = 2,\n",
    "                              activation='softmax')) #output  layer\n",
    "\n",
    "#sgd_optimizer = keras.optimizers.SGD(learning_rate=0.0001)\n",
    "adam_optimizer = keras.optimizers.Adam()\n",
    "model2.compile(optimizer=adam_optimizer, loss='categorical_crossentropy', metrics=['accuracy'])\n",
    "model2.summary()\n",
    "\n",
    "# prepare one-hot vectors\n",
    "y_train_onehot = keras.utils.to_categorical(y_train)\n",
    "\n",
    "#After class practice: train the model and report the test accuracy\n",
    "# train the model\n",
    "h = model2.fit(X_train, y_train_onehot, \n",
    "           batch_size = 16,\n",
    "           epochs = 100,\n",
    "           validation_split = 0.2,\n",
    "           verbose = 1)\n",
    "\n",
    "\n",
    "# evaluate the model\n",
    "import numpy as np\n",
    "y_train_pred = np.argmax(model2.predict(X_train), axis=-1)\n",
    "train_acc = sum(y_train == y_train_pred)/y_train.shape[0]\n",
    "\n",
    "y_test_pred = np.argmax(model2.predict(X_test), axis=-1)\n",
    "test_acc = sum(y_test == y_test_pred)/y_test.shape[0]\n",
    "\n",
    "print('training acc is', train_acc)\n",
    "print('test acc is', test_acc)\n"
   ]
  },
  {
   "cell_type": "markdown",
   "id": "6a9fc7a4",
   "metadata": {},
   "source": [
    "4.2 Visualize h.history"
   ]
  },
  {
   "cell_type": "code",
   "execution_count": 117,
   "id": "39737eb9",
   "metadata": {},
   "outputs": [
    {
     "data": {
      "text/plain": [
       "<matplotlib.legend.Legend at 0x209694ab460>"
      ]
     },
     "execution_count": 117,
     "metadata": {},
     "output_type": "execute_result"
    },
    {
     "data": {
      "image/png": "[encoded data removed]",
      "text/plain": [
       "<Figure size 432x288 with 1 Axes>"
      ]
     },
     "metadata": {
      "needs_background": "light"
     },
     "output_type": "display_data"
    }
   ],
   "source": [
    "import matplotlib.pyplot as plt\n",
    "plt.plot(h.history['loss'], label = 'training loss')\n",
    "plt.plot(h.history['val_loss'], label = 'validation loss')\n",
    "plt.legend()"
   ]
  },
  {
   "cell_type": "code",
   "execution_count": 122,
   "id": "019fd017",
   "metadata": {},
   "outputs": [
    {
     "data": {
      "text/plain": [
       "<matplotlib.legend.Legend at 0x2096e153cd0>"
      ]
     },
     "execution_count": 122,
     "metadata": {},
     "output_type": "execute_result"
    },
    {
     "data": {
      "image/png": "[encoded data removed]",
      "text/plain": [
       "<Figure size 432x288 with 1 Axes>"
      ]
     },
     "metadata": {
      "needs_background": "light"
     },
     "output_type": "display_data"
    }
   ],
   "source": [
    "import matplotlib.pyplot as plt\n",
    "plt.plot(h.history['accuracy'], label = 'training acc')\n",
    "plt.plot(h.history['val_accuracy'], label = 'validation acc')\n",
    "plt.legend()"
   ]
  },
  {
   "cell_type": "markdown",
   "id": "cb1a98fc",
   "metadata": {},
   "source": [
    "5. Early stopping"
   ]
  },
  {
   "cell_type": "code",
   "execution_count": 123,
   "id": "2ced93a5",
   "metadata": {},
   "outputs": [
    {
     "name": "stdout",
     "output_type": "stream",
     "text": [
      "Epoch 1/300\n",
      "23/23 [==============================] - 0s 3ms/step - loss: 0.2276 - accuracy: 0.9121 - val_loss: 0.2159 - val_accuracy: 0.9011\n",
      "Epoch 2/300\n",
      "23/23 [==============================] - 0s 2ms/step - loss: 0.2111 - accuracy: 0.9121 - val_loss: 0.2981 - val_accuracy: 0.8681\n",
      "Epoch 3/300\n",
      "23/23 [==============================] - 0s 2ms/step - loss: 0.2202 - accuracy: 0.9203 - val_loss: 0.2118 - val_accuracy: 0.9011\n",
      "Epoch 4/300\n",
      "23/23 [==============================] - 0s 2ms/step - loss: 0.2475 - accuracy: 0.8874 - val_loss: 0.3838 - val_accuracy: 0.8462\n",
      "Epoch 5/300\n",
      "23/23 [==============================] - 0s 2ms/step - loss: 0.2067 - accuracy: 0.9231 - val_loss: 0.2666 - val_accuracy: 0.9011\n",
      "Epoch 6/300\n",
      "23/23 [==============================] - 0s 2ms/step - loss: 0.2413 - accuracy: 0.9038 - val_loss: 0.2860 - val_accuracy: 0.8681\n"
     ]
    }
   ],
   "source": [
    "# this model is trained based on the previous 20-epochs training\n",
    "early_stopping = keras.callbacks.EarlyStopping(monitor='val_accuracy', patience=5)\n",
    "h1 = model2.fit(X_train, y_train_onehot, \n",
    "           batch_size = 16,\n",
    "           epochs = 300, # very large # epochs\n",
    "           validation_split = 0.2,\n",
    "           callbacks = [early_stopping],\n",
    "           verbose = 1)"
   ]
  },
  {
   "cell_type": "code",
   "execution_count": 96,
   "id": "c3cfe0b4",
   "metadata": {},
   "outputs": [
    {
     "name": "stdout",
     "output_type": "stream",
     "text": [
      "training acc is 0.9538461538461539\n",
      "test acc is 0.956140350877193\n"
     ]
    }
   ],
   "source": [
    "#  accuracy\n",
    "import numpy as np\n",
    "y_train_pred = np.argmax(model2.predict(X_train), axis=-1)\n",
    "train_acc = sum(y_train == y_train_pred)/y_train.shape[0]\n",
    "\n",
    "y_test_pred = np.argmax(model2.predict(X_test), axis=-1)\n",
    "test_acc = sum(y_test == y_test_pred)/y_test.shape[0]\n",
    "\n",
    "print('training acc is', train_acc)\n",
    "print('test acc is', test_acc)"
   ]
  }
 ],
 "metadata": {
  "kernelspec": {
   "display_name": "Python 3",
   "language": "python",
   "name": "python3"
  },
  "language_info": {
   "codemirror_mode": {
    "name": "ipython",
    "version": 3
   },
   "file_extension": ".py",
   "mimetype": "text/x-python",
   "name": "python",
   "nbconvert_exporter": "python",
   "pygments_lexer": "ipython3",
   "version": "3.8.8"
  }
 },
 "nbformat": 4,
 "nbformat_minor": 5
}
